{
 "cells": [
  {
   "cell_type": "markdown",
   "metadata": {},
   "source": [
    "<img src='graphics/three_pandas.jpg'>\n",
    "\n",
    "<img src='graphics/spacer.png'>\n",
    "\n",
    "<center><font style=\"font-size:40px;\">Pandas, Part 3 </font></center>\n",
    "\n",
    "Over the last two sessions, we have introduced and worked with Pandas. In our first session with Pandas we learned: \n",
    "1. Importing the Pandas library\n",
    "1. Creating DataFrames\n",
    "    1. Creating an Empty DataFrame\n",
    "    1. Creating a DataFrame from a Python list\n",
    "    1. Importing a CSV as a Pandas DataFrame (one of the most common ways to import data into Python)\n",
    "1. .head( )\n",
    "1. .tail( )\n",
    "1. .sample( )\n",
    "1. .shape\n",
    "1. .keys( ) & .columns\n",
    "1. .info( )\n",
    "1. .describe( )\n",
    "1. .values_count( )\n",
    "1. Accessing a feature (column) in a DataFrame\n",
    "1. Accessing an observation (row) in a DataFrame\n",
    "1. Navigating a DataFrame using .loc( ) and .iloc( ) at an elementary level\n",
    "\n",
    "In our second session with Pandas we learned:\n",
    "1. Cleaning cloumn names\n",
    "1. Cleaning NaN values\n",
    "1. Using a mask\n",
    "\n",
    "\n",
    "# Load our libraries and data"
   ]
  },
  {
   "cell_type": "code",
   "execution_count": null,
   "metadata": {
    "ExecuteTime": {
     "end_time": "2020-06-21T17:25:38.645285Z",
     "start_time": "2020-06-21T17:25:38.642813Z"
    }
   },
   "outputs": [],
   "source": [
    "import pandas as pd"
   ]
  },
  {
   "cell_type": "code",
   "execution_count": null,
   "metadata": {
    "ExecuteTime": {
     "end_time": "2020-06-21T17:25:48.452673Z",
     "start_time": "2020-06-21T17:25:48.422396Z"
    }
   },
   "outputs": [],
   "source": [
    "df = pd.DataFrame({'country': ['United States', 'The Netherlands', 'Spain', 'Mexico', 'Australia'],\n",
    "                    'capital': ['Washington D.C.', 'Amsterdam', 'Madrid', 'Mexico City', 'Canberra'],\n",
    "                    'continent': ['North America', 'Europe', 'Europe', 'North America', 'Australia'],\n",
    "                    'language': ['English', 'Dutch', 'Spanish', 'Spanish', 'English']})\n",
    "\n",
    "df"
   ]
  },
  {
   "cell_type": "markdown",
   "metadata": {},
   "source": [
    "# Select multiple rows and columns using .loc\n",
    "\n"
   ]
  },
  {
   "cell_type": "code",
   "execution_count": null,
   "metadata": {
    "ExecuteTime": {
     "end_time": "2020-06-21T17:27:17.077929Z",
     "start_time": "2020-06-21T17:27:17.061045Z"
    }
   },
   "outputs": [],
   "source": [
    "df.loc[:, 'country':'continent']"
   ]
  },
  {
   "cell_type": "code",
   "execution_count": null,
   "metadata": {
    "ExecuteTime": {
     "end_time": "2020-06-21T17:27:41.097622Z",
     "start_time": "2020-06-21T17:27:41.089277Z"
    }
   },
   "outputs": [],
   "source": [
    "df.loc[0:2, 'country':'continent']"
   ]
  },
  {
   "cell_type": "code",
   "execution_count": null,
   "metadata": {
    "ExecuteTime": {
     "end_time": "2020-06-21T17:28:02.182953Z",
     "start_time": "2020-06-21T17:28:02.164960Z"
    }
   },
   "outputs": [],
   "source": [
    "df.loc[[0, 4], ['country', 'language']]"
   ]
  },
  {
   "cell_type": "markdown",
   "metadata": {},
   "source": [
    "# Filter DataFrames by category\n",
    "\n",
    "In many cases, we may want to consider only the data points that are included in one particular category, or sometimes in a selection of categories. For a single category, we are able to do this by using the `==` operator. However, for multiple categories, we have to make use of the `isin` function:"
   ]
  },
  {
   "cell_type": "code",
   "execution_count": null,
   "metadata": {
    "ExecuteTime": {
     "end_time": "2020-06-21T17:29:40.658966Z",
     "start_time": "2020-06-21T17:29:40.642207Z"
    }
   },
   "outputs": [],
   "source": [
    "df[df.continent == 'Europe']"
   ]
  },
  {
   "cell_type": "code",
   "execution_count": null,
   "metadata": {
    "ExecuteTime": {
     "end_time": "2020-06-21T17:30:08.218531Z",
     "start_time": "2020-06-21T17:30:08.209908Z"
    }
   },
   "outputs": [],
   "source": [
    "df[df['continent'] == 'Europe']"
   ]
  },
  {
   "cell_type": "code",
   "execution_count": null,
   "metadata": {
    "ExecuteTime": {
     "end_time": "2020-06-21T17:30:45.739186Z",
     "start_time": "2020-06-21T17:30:45.728023Z"
    }
   },
   "outputs": [],
   "source": [
    "df[df.language.isin(['Dutch', 'English'])]"
   ]
  },
  {
   "cell_type": "markdown",
   "metadata": {},
   "source": [
    "# Filter DataFrames by excluding categories\n",
    "As opposed to filtering by category, we may want to filter our DataFrame by excluding certain categories. We do this by making use of the `~` (tilde) sign, which is the complement operator. Example usage:"
   ]
  },
  {
   "cell_type": "code",
   "execution_count": null,
   "metadata": {
    "ExecuteTime": {
     "end_time": "2020-06-21T17:31:55.136065Z",
     "start_time": "2020-06-21T17:31:55.119657Z"
    }
   },
   "outputs": [],
   "source": [
    "df[~df.continent.isin(['Europe'])]"
   ]
  },
  {
   "cell_type": "code",
   "execution_count": null,
   "metadata": {
    "ExecuteTime": {
     "end_time": "2020-06-21T17:32:49.638604Z",
     "start_time": "2020-06-21T17:32:49.630595Z"
    }
   },
   "outputs": [],
   "source": [
    "df[~df['continent'].isin(['Europe'])]"
   ]
  },
  {
   "cell_type": "code",
   "execution_count": null,
   "metadata": {
    "ExecuteTime": {
     "end_time": "2020-06-21T17:33:28.852088Z",
     "start_time": "2020-06-21T17:33:28.842315Z"
    }
   },
   "outputs": [],
   "source": [
    "df[~df.language.isin(['Dutch', 'English'])]"
   ]
  },
  {
   "cell_type": "code",
   "execution_count": null,
   "metadata": {
    "ExecuteTime": {
     "end_time": "2020-06-21T17:33:46.536238Z",
     "start_time": "2020-06-21T17:33:46.527559Z"
    }
   },
   "outputs": [],
   "source": [
    "df[~df['language'].isin(['Dutch', 'English'])]"
   ]
  },
  {
   "cell_type": "markdown",
   "metadata": {},
   "source": [
    "# Reverse row order\n",
    "To reverse the row order, we make use of the `.loc( )` operator. This works in the following way:"
   ]
  },
  {
   "cell_type": "code",
   "execution_count": null,
   "metadata": {
    "ExecuteTime": {
     "end_time": "2020-06-21T17:35:11.047418Z",
     "start_time": "2020-06-21T17:35:11.038553Z"
    }
   },
   "outputs": [],
   "source": [
    "df.loc[::-1]"
   ]
  },
  {
   "cell_type": "markdown",
   "metadata": {},
   "source": [
    "# Reverse column order\n",
    "Reversing the column order goes in a similar way as for the rows:"
   ]
  },
  {
   "cell_type": "code",
   "execution_count": null,
   "metadata": {
    "ExecuteTime": {
     "end_time": "2020-06-21T17:36:20.439481Z",
     "start_time": "2020-06-21T17:36:20.430564Z"
    }
   },
   "outputs": [],
   "source": [
    "df.loc[:, ::-1]"
   ]
  },
  {
   "cell_type": "markdown",
   "metadata": {},
   "source": [
    "# `.loc( )`  in more depth\n",
    "\n",
    "## Row selection"
   ]
  },
  {
   "cell_type": "code",
   "execution_count": null,
   "metadata": {
    "ExecuteTime": {
     "end_time": "2020-06-21T17:56:50.454135Z",
     "start_time": "2020-06-21T17:56:50.449169Z"
    }
   },
   "outputs": [],
   "source": [
    "# row zero all columns\n",
    "df.loc[0, :]"
   ]
  },
  {
   "cell_type": "code",
   "execution_count": null,
   "metadata": {
    "ExecuteTime": {
     "end_time": "2020-06-21T17:59:59.806966Z",
     "start_time": "2020-06-21T17:59:59.798265Z"
    }
   },
   "outputs": [],
   "source": [
    "# rows 0, 1, & 3, all columns\n",
    "\n",
    "df.loc[[0, 1, 3], :]"
   ]
  },
  {
   "cell_type": "code",
   "execution_count": null,
   "metadata": {
    "ExecuteTime": {
     "end_time": "2020-06-21T17:59:18.929846Z",
     "start_time": "2020-06-21T17:59:18.921501Z"
    }
   },
   "outputs": [],
   "source": [
    "# rows 0 through 2, all columns\n",
    "\n",
    "df.loc[0:2, :]"
   ]
  },
  {
   "cell_type": "markdown",
   "metadata": {},
   "source": [
    "## Column Selection"
   ]
  },
  {
   "cell_type": "code",
   "execution_count": null,
   "metadata": {
    "ExecuteTime": {
     "end_time": "2020-06-21T18:02:36.104051Z",
     "start_time": "2020-06-21T18:02:36.099562Z"
    }
   },
   "outputs": [],
   "source": [
    "# All rows, only the 'capital' column\n",
    "\n",
    "df.loc[:, 'capital']"
   ]
  },
  {
   "cell_type": "code",
   "execution_count": null,
   "metadata": {
    "ExecuteTime": {
     "end_time": "2020-06-21T18:03:21.827852Z",
     "start_time": "2020-06-21T18:03:21.819856Z"
    }
   },
   "outputs": [],
   "source": [
    "# All rows, only the 'country' and 'capital' columns\n",
    "\n",
    "df.loc[:, ['country', 'capital']]"
   ]
  },
  {
   "cell_type": "code",
   "execution_count": null,
   "metadata": {
    "ExecuteTime": {
     "end_time": "2020-06-21T18:04:42.846010Z",
     "start_time": "2020-06-21T18:04:42.837585Z"
    }
   },
   "outputs": [],
   "source": [
    "# All rows, and only the 'capital' through 'language' columns\n",
    "\n",
    "df.loc[:, 'capital':'language']"
   ]
  },
  {
   "cell_type": "markdown",
   "metadata": {},
   "source": [
    "# Combine Methods"
   ]
  },
  {
   "cell_type": "code",
   "execution_count": null,
   "metadata": {
    "ExecuteTime": {
     "end_time": "2020-06-21T18:06:01.673342Z",
     "start_time": "2020-06-21T18:06:01.663789Z"
    }
   },
   "outputs": [],
   "source": [
    "# Only rows 1 and 3, and all columns 'capital' through 'language'\n",
    "\n",
    "df.loc[[1,3], 'capital':'language']"
   ]
  },
  {
   "cell_type": "markdown",
   "metadata": {},
   "source": [
    "# Boolean Selection"
   ]
  },
  {
   "cell_type": "code",
   "execution_count": null,
   "metadata": {
    "ExecuteTime": {
     "end_time": "2020-06-21T18:15:43.006725Z",
     "start_time": "2020-06-21T18:15:42.997869Z"
    }
   },
   "outputs": [],
   "source": [
    "# All rows in which 'Spanish' is in the 'language' column - bracket method\n",
    "\n",
    "df[df['language'] == 'Spanish']"
   ]
  },
  {
   "cell_type": "code",
   "execution_count": null,
   "metadata": {
    "ExecuteTime": {
     "end_time": "2020-06-21T18:20:24.621669Z",
     "start_time": "2020-06-21T18:20:24.612383Z"
    }
   },
   "outputs": [],
   "source": [
    "# All rows in which 'Spanish' is in the 'language' column - dot method\n",
    "\n",
    "df[df.language == 'Spanish']"
   ]
  },
  {
   "cell_type": "markdown",
   "metadata": {
    "ExecuteTime": {
     "end_time": "2020-06-21T18:21:59.221005Z",
     "start_time": "2020-06-21T18:21:59.217324Z"
    }
   },
   "source": [
    "# Exercises"
   ]
  },
  {
   "cell_type": "code",
   "execution_count": null,
   "metadata": {
    "ExecuteTime": {
     "end_time": "2020-06-27T16:20:29.673876Z",
     "start_time": "2020-06-27T16:20:28.187444Z"
    }
   },
   "outputs": [],
   "source": [
    "# Read in the data to a DataFrame from a url - I'll give this one to you since it is new.\n",
    "\n",
    "import pandas as pd\n",
    "\n",
    "df_ufos = pd.read_csv('http://bit.ly/uforeports')"
   ]
  },
  {
   "cell_type": "code",
   "execution_count": null,
   "metadata": {
    "ExecuteTime": {
     "end_time": "2020-06-27T16:20:45.064375Z",
     "start_time": "2020-06-27T16:20:45.044857Z"
    }
   },
   "outputs": [],
   "source": [
    "# run a quick EDA on the DataFrame showing the column names, data type for each column, the number of entries,\n",
    "# and the number of non-null values for each entry\n",
    "\n"
   ]
  },
  {
   "cell_type": "code",
   "execution_count": null,
   "metadata": {
    "ExecuteTime": {
     "end_time": "2020-06-21T18:54:57.482173Z",
     "start_time": "2020-06-21T18:54:57.478517Z"
    }
   },
   "outputs": [],
   "source": [
    "# Find the shape of the DataFrame\n",
    "\n"
   ]
  },
  {
   "cell_type": "code",
   "execution_count": null,
   "metadata": {
    "ExecuteTime": {
     "end_time": "2020-06-21T18:54:58.069209Z",
     "start_time": "2020-06-21T18:54:58.063825Z"
    }
   },
   "outputs": [],
   "source": [
    "# Find the unique values in the \"state\" column\n",
    "\n"
   ]
  },
  {
   "cell_type": "code",
   "execution_count": null,
   "metadata": {
    "ExecuteTime": {
     "end_time": "2020-06-21T18:54:58.558616Z",
     "start_time": "2020-06-21T18:54:58.544057Z"
    }
   },
   "outputs": [],
   "source": [
    "# display all of the UFO incidents that occurred in Washington and save it as a df of its own\n",
    "\n"
   ]
  },
  {
   "cell_type": "code",
   "execution_count": null,
   "metadata": {
    "ExecuteTime": {
     "end_time": "2020-06-21T18:54:59.057729Z",
     "start_time": "2020-06-21T18:54:59.040172Z"
    }
   },
   "outputs": [],
   "source": [
    "# Find the number of incidents that occurred in each city in Washington from the Washington DF you just made\n",
    "\n",
    "\n",
    "\n",
    "# Display all of the unique cities in Washington where an incident occurred\n",
    "\n",
    "\n",
    "\n",
    "# Select a single city and display the incidents which occurred in that city\n",
    "\n"
   ]
  },
  {
   "cell_type": "code",
   "execution_count": null,
   "metadata": {
    "ExecuteTime": {
     "end_time": "2020-06-21T18:54:59.485872Z",
     "start_time": "2020-06-21T18:54:59.475312Z"
    }
   },
   "outputs": [],
   "source": [
    "# Establish a DF for all of the incidents that occurred in Gig Harbor, then display it\n",
    "\n",
    "\n",
    "\n"
   ]
  },
  {
   "cell_type": "markdown",
   "metadata": {},
   "source": [
    "## Bonus Exercise 1\n",
    "\n",
    "There are two mistypes in the 'State' column of the original dataset. Find them and correct them. "
   ]
  },
  {
   "cell_type": "code",
   "execution_count": null,
   "metadata": {
    "ExecuteTime": {
     "end_time": "2020-06-21T18:55:00.828685Z",
     "start_time": "2020-06-21T18:55:00.823494Z"
    }
   },
   "outputs": [],
   "source": [
    "# Find the errors\n",
    "\n"
   ]
  },
  {
   "cell_type": "code",
   "execution_count": null,
   "metadata": {
    "ExecuteTime": {
     "end_time": "2020-06-21T18:55:02.302939Z",
     "start_time": "2020-06-21T18:55:02.281039Z"
    }
   },
   "outputs": [],
   "source": [
    "# Find the rows that contain each of the errors and display them\n",
    "\n",
    "\n"
   ]
  },
  {
   "cell_type": "code",
   "execution_count": null,
   "metadata": {
    "ExecuteTime": {
     "end_time": "2020-06-21T18:55:04.010676Z",
     "start_time": "2020-06-21T18:55:04.004249Z"
    }
   },
   "outputs": [],
   "source": [
    "# Correct the errors for the first group\n",
    "\n"
   ]
  },
  {
   "cell_type": "code",
   "execution_count": null,
   "metadata": {
    "ExecuteTime": {
     "end_time": "2020-06-21T18:55:05.464020Z",
     "start_time": "2020-06-21T18:55:05.458261Z"
    }
   },
   "outputs": [],
   "source": [
    "# Correct the errors for the second group\n",
    "\n"
   ]
  },
  {
   "cell_type": "code",
   "execution_count": null,
   "metadata": {
    "ExecuteTime": {
     "end_time": "2020-06-21T18:55:06.739060Z",
     "start_time": "2020-06-21T18:55:06.733915Z"
    }
   },
   "outputs": [],
   "source": [
    "# Check your work to see that the corrections have been made\n",
    "\n"
   ]
  },
  {
   "cell_type": "markdown",
   "metadata": {},
   "source": [
    "## Bonus Exercise 2\n",
    "\n",
    "Clean up the column names for the dataset and save it to the folder called 'data' in the lesson directory. "
   ]
  },
  {
   "cell_type": "code",
   "execution_count": null,
   "metadata": {
    "ExecuteTime": {
     "end_time": "2020-06-27T16:34:43.610318Z",
     "start_time": "2020-06-27T16:34:43.595286Z"
    }
   },
   "outputs": [],
   "source": []
  },
  {
   "cell_type": "code",
   "execution_count": null,
   "metadata": {
    "ExecuteTime": {
     "end_time": "2020-06-27T16:38:24.066284Z",
     "start_time": "2020-06-27T16:38:24.012259Z"
    }
   },
   "outputs": [],
   "source": []
  },
  {
   "cell_type": "code",
   "execution_count": null,
   "metadata": {},
   "outputs": [],
   "source": []
  },
  {
   "cell_type": "code",
   "execution_count": null,
   "metadata": {},
   "outputs": [],
   "source": []
  },
  {
   "cell_type": "code",
   "execution_count": null,
   "metadata": {},
   "outputs": [],
   "source": []
  }
 ],
 "metadata": {
  "kernelspec": {
   "display_name": "Python 3",
   "language": "python",
   "name": "python3"
  },
  "language_info": {
   "codemirror_mode": {
    "name": "ipython",
    "version": 3
   },
   "file_extension": ".py",
   "mimetype": "text/x-python",
   "name": "python",
   "nbconvert_exporter": "python",
   "pygments_lexer": "ipython3",
   "version": "3.7.4"
  },
  "toc": {
   "base_numbering": 1,
   "nav_menu": {},
   "number_sections": true,
   "sideBar": true,
   "skip_h1_title": false,
   "title_cell": "Table of Contents",
   "title_sidebar": "Contents",
   "toc_cell": false,
   "toc_position": {},
   "toc_section_display": true,
   "toc_window_display": true
  }
 },
 "nbformat": 4,
 "nbformat_minor": 4
}
