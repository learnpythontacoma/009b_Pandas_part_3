{
 "cells": [
  {
   "cell_type": "markdown",
   "metadata": {},
   "source": [
    "<img src='graphics/three_pandas.jpg'>\n",
    "\n",
    "<img src='graphics/spacer.png'>\n",
    "\n",
    "<center><font style=\"font-size:40px;\">Pandas, Part 3 </font></center>\n",
    "\n",
    "Over the last two sessions, we have introduced and worked with Pandas. In our first session with Pandas we learned: \n",
    "1. Importing the Pandas library\n",
    "1. Creating DataFrames\n",
    "    1. Creating an Empty DataFrame\n",
    "    1. Creating a DataFrame from a Python list\n",
    "    1. Importing a CSV as a Pandas DataFrame (one of the most common ways to import data into Python)\n",
    "1. .head( )\n",
    "1. .tail( )\n",
    "1. .sample( )\n",
    "1. .shape\n",
    "1. .keys( ) & .columns\n",
    "1. .info( )\n",
    "1. .describe( )\n",
    "1. .values_count( )\n",
    "1. Accessing a feature (column) in a DataFrame\n",
    "1. Accessing an observation (row) in a DataFrame\n",
    "1. Navigating a DataFrame using .loc( ) and .iloc( ) at an elementary level\n",
    "\n",
    "In our second session with Pandas we learned:\n",
    "1. Cleaning cloumn names\n",
    "1. Cleaning NaN values\n",
    "1. Using a mask\n",
    "\n",
    "\n",
    "# Load our libraries and data"
   ]
  },
  {
   "cell_type": "code",
   "execution_count": 4,
   "metadata": {
    "ExecuteTime": {
     "end_time": "2020-06-21T17:25:38.645285Z",
     "start_time": "2020-06-21T17:25:38.642813Z"
    }
   },
   "outputs": [],
   "source": [
    "import pandas as pd"
   ]
  },
  {
   "cell_type": "code",
   "execution_count": 6,
   "metadata": {
    "ExecuteTime": {
     "end_time": "2020-06-21T17:25:48.452673Z",
     "start_time": "2020-06-21T17:25:48.422396Z"
    }
   },
   "outputs": [
    {
     "data": {
      "text/html": [
       "<div>\n",
       "<style scoped>\n",
       "    .dataframe tbody tr th:only-of-type {\n",
       "        vertical-align: middle;\n",
       "    }\n",
       "\n",
       "    .dataframe tbody tr th {\n",
       "        vertical-align: top;\n",
       "    }\n",
       "\n",
       "    .dataframe thead th {\n",
       "        text-align: right;\n",
       "    }\n",
       "</style>\n",
       "<table border=\"1\" class=\"dataframe\">\n",
       "  <thead>\n",
       "    <tr style=\"text-align: right;\">\n",
       "      <th></th>\n",
       "      <th>country</th>\n",
       "      <th>capital</th>\n",
       "      <th>continent</th>\n",
       "      <th>language</th>\n",
       "    </tr>\n",
       "  </thead>\n",
       "  <tbody>\n",
       "    <tr>\n",
       "      <th>0</th>\n",
       "      <td>United States</td>\n",
       "      <td>Washington D.C.</td>\n",
       "      <td>North America</td>\n",
       "      <td>English</td>\n",
       "    </tr>\n",
       "    <tr>\n",
       "      <th>1</th>\n",
       "      <td>The Netherlands</td>\n",
       "      <td>Amsterdam</td>\n",
       "      <td>Europe</td>\n",
       "      <td>Dutch</td>\n",
       "    </tr>\n",
       "    <tr>\n",
       "      <th>2</th>\n",
       "      <td>Spain</td>\n",
       "      <td>Madrid</td>\n",
       "      <td>Europe</td>\n",
       "      <td>Spanish</td>\n",
       "    </tr>\n",
       "    <tr>\n",
       "      <th>3</th>\n",
       "      <td>Mexico</td>\n",
       "      <td>Mexico City</td>\n",
       "      <td>North America</td>\n",
       "      <td>Spanish</td>\n",
       "    </tr>\n",
       "    <tr>\n",
       "      <th>4</th>\n",
       "      <td>Australia</td>\n",
       "      <td>Canberra</td>\n",
       "      <td>Australia</td>\n",
       "      <td>English</td>\n",
       "    </tr>\n",
       "  </tbody>\n",
       "</table>\n",
       "</div>"
      ],
      "text/plain": [
       "           country          capital      continent language\n",
       "0    United States  Washington D.C.  North America  English\n",
       "1  The Netherlands        Amsterdam         Europe    Dutch\n",
       "2            Spain           Madrid         Europe  Spanish\n",
       "3           Mexico      Mexico City  North America  Spanish\n",
       "4        Australia         Canberra      Australia  English"
      ]
     },
     "execution_count": 6,
     "metadata": {},
     "output_type": "execute_result"
    }
   ],
   "source": [
    "df = pd.DataFrame({'country': ['United States', 'The Netherlands', 'Spain', 'Mexico', 'Australia'],\n",
    "                    'capital': ['Washington D.C.', 'Amsterdam', 'Madrid', 'Mexico City', 'Canberra'],\n",
    "                    'continent': ['North America', 'Europe', 'Europe', 'North America', 'Australia'],\n",
    "                    'language': ['English', 'Dutch', 'Spanish', 'Spanish', 'English']})\n",
    "\n",
    "df"
   ]
  },
  {
   "cell_type": "markdown",
   "metadata": {},
   "source": [
    "# Select multiple rows and columns using .loc\n",
    "\n"
   ]
  },
  {
   "cell_type": "code",
   "execution_count": 7,
   "metadata": {
    "ExecuteTime": {
     "end_time": "2020-06-21T17:27:17.077929Z",
     "start_time": "2020-06-21T17:27:17.061045Z"
    }
   },
   "outputs": [
    {
     "data": {
      "text/html": [
       "<div>\n",
       "<style scoped>\n",
       "    .dataframe tbody tr th:only-of-type {\n",
       "        vertical-align: middle;\n",
       "    }\n",
       "\n",
       "    .dataframe tbody tr th {\n",
       "        vertical-align: top;\n",
       "    }\n",
       "\n",
       "    .dataframe thead th {\n",
       "        text-align: right;\n",
       "    }\n",
       "</style>\n",
       "<table border=\"1\" class=\"dataframe\">\n",
       "  <thead>\n",
       "    <tr style=\"text-align: right;\">\n",
       "      <th></th>\n",
       "      <th>country</th>\n",
       "      <th>capital</th>\n",
       "      <th>continent</th>\n",
       "    </tr>\n",
       "  </thead>\n",
       "  <tbody>\n",
       "    <tr>\n",
       "      <th>0</th>\n",
       "      <td>United States</td>\n",
       "      <td>Washington D.C.</td>\n",
       "      <td>North America</td>\n",
       "    </tr>\n",
       "    <tr>\n",
       "      <th>1</th>\n",
       "      <td>The Netherlands</td>\n",
       "      <td>Amsterdam</td>\n",
       "      <td>Europe</td>\n",
       "    </tr>\n",
       "    <tr>\n",
       "      <th>2</th>\n",
       "      <td>Spain</td>\n",
       "      <td>Madrid</td>\n",
       "      <td>Europe</td>\n",
       "    </tr>\n",
       "    <tr>\n",
       "      <th>3</th>\n",
       "      <td>Mexico</td>\n",
       "      <td>Mexico City</td>\n",
       "      <td>North America</td>\n",
       "    </tr>\n",
       "    <tr>\n",
       "      <th>4</th>\n",
       "      <td>Australia</td>\n",
       "      <td>Canberra</td>\n",
       "      <td>Australia</td>\n",
       "    </tr>\n",
       "  </tbody>\n",
       "</table>\n",
       "</div>"
      ],
      "text/plain": [
       "           country          capital      continent\n",
       "0    United States  Washington D.C.  North America\n",
       "1  The Netherlands        Amsterdam         Europe\n",
       "2            Spain           Madrid         Europe\n",
       "3           Mexico      Mexico City  North America\n",
       "4        Australia         Canberra      Australia"
      ]
     },
     "execution_count": 7,
     "metadata": {},
     "output_type": "execute_result"
    }
   ],
   "source": [
    "df.loc[:, 'country':'continent']"
   ]
  },
  {
   "cell_type": "code",
   "execution_count": 8,
   "metadata": {
    "ExecuteTime": {
     "end_time": "2020-06-21T17:27:41.097622Z",
     "start_time": "2020-06-21T17:27:41.089277Z"
    }
   },
   "outputs": [
    {
     "data": {
      "text/html": [
       "<div>\n",
       "<style scoped>\n",
       "    .dataframe tbody tr th:only-of-type {\n",
       "        vertical-align: middle;\n",
       "    }\n",
       "\n",
       "    .dataframe tbody tr th {\n",
       "        vertical-align: top;\n",
       "    }\n",
       "\n",
       "    .dataframe thead th {\n",
       "        text-align: right;\n",
       "    }\n",
       "</style>\n",
       "<table border=\"1\" class=\"dataframe\">\n",
       "  <thead>\n",
       "    <tr style=\"text-align: right;\">\n",
       "      <th></th>\n",
       "      <th>country</th>\n",
       "      <th>capital</th>\n",
       "      <th>continent</th>\n",
       "    </tr>\n",
       "  </thead>\n",
       "  <tbody>\n",
       "    <tr>\n",
       "      <th>0</th>\n",
       "      <td>United States</td>\n",
       "      <td>Washington D.C.</td>\n",
       "      <td>North America</td>\n",
       "    </tr>\n",
       "    <tr>\n",
       "      <th>1</th>\n",
       "      <td>The Netherlands</td>\n",
       "      <td>Amsterdam</td>\n",
       "      <td>Europe</td>\n",
       "    </tr>\n",
       "    <tr>\n",
       "      <th>2</th>\n",
       "      <td>Spain</td>\n",
       "      <td>Madrid</td>\n",
       "      <td>Europe</td>\n",
       "    </tr>\n",
       "  </tbody>\n",
       "</table>\n",
       "</div>"
      ],
      "text/plain": [
       "           country          capital      continent\n",
       "0    United States  Washington D.C.  North America\n",
       "1  The Netherlands        Amsterdam         Europe\n",
       "2            Spain           Madrid         Europe"
      ]
     },
     "execution_count": 8,
     "metadata": {},
     "output_type": "execute_result"
    }
   ],
   "source": [
    "df.loc[0:2, 'country':'continent']"
   ]
  },
  {
   "cell_type": "code",
   "execution_count": 9,
   "metadata": {
    "ExecuteTime": {
     "end_time": "2020-06-21T17:28:02.182953Z",
     "start_time": "2020-06-21T17:28:02.164960Z"
    }
   },
   "outputs": [
    {
     "data": {
      "text/html": [
       "<div>\n",
       "<style scoped>\n",
       "    .dataframe tbody tr th:only-of-type {\n",
       "        vertical-align: middle;\n",
       "    }\n",
       "\n",
       "    .dataframe tbody tr th {\n",
       "        vertical-align: top;\n",
       "    }\n",
       "\n",
       "    .dataframe thead th {\n",
       "        text-align: right;\n",
       "    }\n",
       "</style>\n",
       "<table border=\"1\" class=\"dataframe\">\n",
       "  <thead>\n",
       "    <tr style=\"text-align: right;\">\n",
       "      <th></th>\n",
       "      <th>country</th>\n",
       "      <th>language</th>\n",
       "    </tr>\n",
       "  </thead>\n",
       "  <tbody>\n",
       "    <tr>\n",
       "      <th>0</th>\n",
       "      <td>United States</td>\n",
       "      <td>English</td>\n",
       "    </tr>\n",
       "    <tr>\n",
       "      <th>4</th>\n",
       "      <td>Australia</td>\n",
       "      <td>English</td>\n",
       "    </tr>\n",
       "  </tbody>\n",
       "</table>\n",
       "</div>"
      ],
      "text/plain": [
       "         country language\n",
       "0  United States  English\n",
       "4      Australia  English"
      ]
     },
     "execution_count": 9,
     "metadata": {},
     "output_type": "execute_result"
    }
   ],
   "source": [
    "df.loc[[0, 4], ['country', 'language']]"
   ]
  },
  {
   "cell_type": "markdown",
   "metadata": {},
   "source": [
    "# Filter DataFrames by category\n",
    "\n",
    "In many cases, we may want to consider only the data points that are included in one particular category, or sometimes in a selection of categories. For a single category, we are able to do this by using the `==` operator. However, for multiple categories, we have to make use of the `isin` function:"
   ]
  },
  {
   "cell_type": "code",
   "execution_count": 10,
   "metadata": {
    "ExecuteTime": {
     "end_time": "2020-06-21T17:29:40.658966Z",
     "start_time": "2020-06-21T17:29:40.642207Z"
    }
   },
   "outputs": [
    {
     "data": {
      "text/html": [
       "<div>\n",
       "<style scoped>\n",
       "    .dataframe tbody tr th:only-of-type {\n",
       "        vertical-align: middle;\n",
       "    }\n",
       "\n",
       "    .dataframe tbody tr th {\n",
       "        vertical-align: top;\n",
       "    }\n",
       "\n",
       "    .dataframe thead th {\n",
       "        text-align: right;\n",
       "    }\n",
       "</style>\n",
       "<table border=\"1\" class=\"dataframe\">\n",
       "  <thead>\n",
       "    <tr style=\"text-align: right;\">\n",
       "      <th></th>\n",
       "      <th>country</th>\n",
       "      <th>capital</th>\n",
       "      <th>continent</th>\n",
       "      <th>language</th>\n",
       "    </tr>\n",
       "  </thead>\n",
       "  <tbody>\n",
       "    <tr>\n",
       "      <th>1</th>\n",
       "      <td>The Netherlands</td>\n",
       "      <td>Amsterdam</td>\n",
       "      <td>Europe</td>\n",
       "      <td>Dutch</td>\n",
       "    </tr>\n",
       "    <tr>\n",
       "      <th>2</th>\n",
       "      <td>Spain</td>\n",
       "      <td>Madrid</td>\n",
       "      <td>Europe</td>\n",
       "      <td>Spanish</td>\n",
       "    </tr>\n",
       "  </tbody>\n",
       "</table>\n",
       "</div>"
      ],
      "text/plain": [
       "           country    capital continent language\n",
       "1  The Netherlands  Amsterdam    Europe    Dutch\n",
       "2            Spain     Madrid    Europe  Spanish"
      ]
     },
     "execution_count": 10,
     "metadata": {},
     "output_type": "execute_result"
    }
   ],
   "source": [
    "df[df.continent == 'Europe']"
   ]
  },
  {
   "cell_type": "code",
   "execution_count": 12,
   "metadata": {
    "ExecuteTime": {
     "end_time": "2020-06-21T17:30:08.218531Z",
     "start_time": "2020-06-21T17:30:08.209908Z"
    }
   },
   "outputs": [
    {
     "data": {
      "text/html": [
       "<div>\n",
       "<style scoped>\n",
       "    .dataframe tbody tr th:only-of-type {\n",
       "        vertical-align: middle;\n",
       "    }\n",
       "\n",
       "    .dataframe tbody tr th {\n",
       "        vertical-align: top;\n",
       "    }\n",
       "\n",
       "    .dataframe thead th {\n",
       "        text-align: right;\n",
       "    }\n",
       "</style>\n",
       "<table border=\"1\" class=\"dataframe\">\n",
       "  <thead>\n",
       "    <tr style=\"text-align: right;\">\n",
       "      <th></th>\n",
       "      <th>country</th>\n",
       "      <th>capital</th>\n",
       "      <th>continent</th>\n",
       "      <th>language</th>\n",
       "    </tr>\n",
       "  </thead>\n",
       "  <tbody>\n",
       "    <tr>\n",
       "      <th>1</th>\n",
       "      <td>The Netherlands</td>\n",
       "      <td>Amsterdam</td>\n",
       "      <td>Europe</td>\n",
       "      <td>Dutch</td>\n",
       "    </tr>\n",
       "    <tr>\n",
       "      <th>2</th>\n",
       "      <td>Spain</td>\n",
       "      <td>Madrid</td>\n",
       "      <td>Europe</td>\n",
       "      <td>Spanish</td>\n",
       "    </tr>\n",
       "  </tbody>\n",
       "</table>\n",
       "</div>"
      ],
      "text/plain": [
       "           country    capital continent language\n",
       "1  The Netherlands  Amsterdam    Europe    Dutch\n",
       "2            Spain     Madrid    Europe  Spanish"
      ]
     },
     "execution_count": 12,
     "metadata": {},
     "output_type": "execute_result"
    }
   ],
   "source": [
    "df[df['continent'] == 'Europe']"
   ]
  },
  {
   "cell_type": "code",
   "execution_count": 13,
   "metadata": {
    "ExecuteTime": {
     "end_time": "2020-06-21T17:30:45.739186Z",
     "start_time": "2020-06-21T17:30:45.728023Z"
    }
   },
   "outputs": [
    {
     "data": {
      "text/html": [
       "<div>\n",
       "<style scoped>\n",
       "    .dataframe tbody tr th:only-of-type {\n",
       "        vertical-align: middle;\n",
       "    }\n",
       "\n",
       "    .dataframe tbody tr th {\n",
       "        vertical-align: top;\n",
       "    }\n",
       "\n",
       "    .dataframe thead th {\n",
       "        text-align: right;\n",
       "    }\n",
       "</style>\n",
       "<table border=\"1\" class=\"dataframe\">\n",
       "  <thead>\n",
       "    <tr style=\"text-align: right;\">\n",
       "      <th></th>\n",
       "      <th>country</th>\n",
       "      <th>capital</th>\n",
       "      <th>continent</th>\n",
       "      <th>language</th>\n",
       "    </tr>\n",
       "  </thead>\n",
       "  <tbody>\n",
       "    <tr>\n",
       "      <th>0</th>\n",
       "      <td>United States</td>\n",
       "      <td>Washington D.C.</td>\n",
       "      <td>North America</td>\n",
       "      <td>English</td>\n",
       "    </tr>\n",
       "    <tr>\n",
       "      <th>1</th>\n",
       "      <td>The Netherlands</td>\n",
       "      <td>Amsterdam</td>\n",
       "      <td>Europe</td>\n",
       "      <td>Dutch</td>\n",
       "    </tr>\n",
       "    <tr>\n",
       "      <th>4</th>\n",
       "      <td>Australia</td>\n",
       "      <td>Canberra</td>\n",
       "      <td>Australia</td>\n",
       "      <td>English</td>\n",
       "    </tr>\n",
       "  </tbody>\n",
       "</table>\n",
       "</div>"
      ],
      "text/plain": [
       "           country          capital      continent language\n",
       "0    United States  Washington D.C.  North America  English\n",
       "1  The Netherlands        Amsterdam         Europe    Dutch\n",
       "4        Australia         Canberra      Australia  English"
      ]
     },
     "execution_count": 13,
     "metadata": {},
     "output_type": "execute_result"
    }
   ],
   "source": [
    "df[df.language.isin(['Dutch', 'English'])]"
   ]
  },
  {
   "cell_type": "markdown",
   "metadata": {},
   "source": [
    "# Filter DataFrames by excluding categories\n",
    "As opposed to filtering by category, we may want to filter our DataFrame by excluding certain categories. We do this by making use of the `~` (tilde) sign, which is the complement operator. Example usage:"
   ]
  },
  {
   "cell_type": "code",
   "execution_count": 14,
   "metadata": {
    "ExecuteTime": {
     "end_time": "2020-06-21T17:31:55.136065Z",
     "start_time": "2020-06-21T17:31:55.119657Z"
    }
   },
   "outputs": [
    {
     "data": {
      "text/html": [
       "<div>\n",
       "<style scoped>\n",
       "    .dataframe tbody tr th:only-of-type {\n",
       "        vertical-align: middle;\n",
       "    }\n",
       "\n",
       "    .dataframe tbody tr th {\n",
       "        vertical-align: top;\n",
       "    }\n",
       "\n",
       "    .dataframe thead th {\n",
       "        text-align: right;\n",
       "    }\n",
       "</style>\n",
       "<table border=\"1\" class=\"dataframe\">\n",
       "  <thead>\n",
       "    <tr style=\"text-align: right;\">\n",
       "      <th></th>\n",
       "      <th>country</th>\n",
       "      <th>capital</th>\n",
       "      <th>continent</th>\n",
       "      <th>language</th>\n",
       "    </tr>\n",
       "  </thead>\n",
       "  <tbody>\n",
       "    <tr>\n",
       "      <th>0</th>\n",
       "      <td>United States</td>\n",
       "      <td>Washington D.C.</td>\n",
       "      <td>North America</td>\n",
       "      <td>English</td>\n",
       "    </tr>\n",
       "    <tr>\n",
       "      <th>3</th>\n",
       "      <td>Mexico</td>\n",
       "      <td>Mexico City</td>\n",
       "      <td>North America</td>\n",
       "      <td>Spanish</td>\n",
       "    </tr>\n",
       "    <tr>\n",
       "      <th>4</th>\n",
       "      <td>Australia</td>\n",
       "      <td>Canberra</td>\n",
       "      <td>Australia</td>\n",
       "      <td>English</td>\n",
       "    </tr>\n",
       "  </tbody>\n",
       "</table>\n",
       "</div>"
      ],
      "text/plain": [
       "         country          capital      continent language\n",
       "0  United States  Washington D.C.  North America  English\n",
       "3         Mexico      Mexico City  North America  Spanish\n",
       "4      Australia         Canberra      Australia  English"
      ]
     },
     "execution_count": 14,
     "metadata": {},
     "output_type": "execute_result"
    }
   ],
   "source": [
    "df[~df.continent.isin(['Europe'])]"
   ]
  },
  {
   "cell_type": "code",
   "execution_count": 15,
   "metadata": {
    "ExecuteTime": {
     "end_time": "2020-06-21T17:32:49.638604Z",
     "start_time": "2020-06-21T17:32:49.630595Z"
    }
   },
   "outputs": [
    {
     "data": {
      "text/html": [
       "<div>\n",
       "<style scoped>\n",
       "    .dataframe tbody tr th:only-of-type {\n",
       "        vertical-align: middle;\n",
       "    }\n",
       "\n",
       "    .dataframe tbody tr th {\n",
       "        vertical-align: top;\n",
       "    }\n",
       "\n",
       "    .dataframe thead th {\n",
       "        text-align: right;\n",
       "    }\n",
       "</style>\n",
       "<table border=\"1\" class=\"dataframe\">\n",
       "  <thead>\n",
       "    <tr style=\"text-align: right;\">\n",
       "      <th></th>\n",
       "      <th>country</th>\n",
       "      <th>capital</th>\n",
       "      <th>continent</th>\n",
       "      <th>language</th>\n",
       "    </tr>\n",
       "  </thead>\n",
       "  <tbody>\n",
       "    <tr>\n",
       "      <th>0</th>\n",
       "      <td>United States</td>\n",
       "      <td>Washington D.C.</td>\n",
       "      <td>North America</td>\n",
       "      <td>English</td>\n",
       "    </tr>\n",
       "    <tr>\n",
       "      <th>3</th>\n",
       "      <td>Mexico</td>\n",
       "      <td>Mexico City</td>\n",
       "      <td>North America</td>\n",
       "      <td>Spanish</td>\n",
       "    </tr>\n",
       "    <tr>\n",
       "      <th>4</th>\n",
       "      <td>Australia</td>\n",
       "      <td>Canberra</td>\n",
       "      <td>Australia</td>\n",
       "      <td>English</td>\n",
       "    </tr>\n",
       "  </tbody>\n",
       "</table>\n",
       "</div>"
      ],
      "text/plain": [
       "         country          capital      continent language\n",
       "0  United States  Washington D.C.  North America  English\n",
       "3         Mexico      Mexico City  North America  Spanish\n",
       "4      Australia         Canberra      Australia  English"
      ]
     },
     "execution_count": 15,
     "metadata": {},
     "output_type": "execute_result"
    }
   ],
   "source": [
    "df[~df['continent'].isin(['Europe'])]"
   ]
  },
  {
   "cell_type": "code",
   "execution_count": 16,
   "metadata": {
    "ExecuteTime": {
     "end_time": "2020-06-21T17:33:28.852088Z",
     "start_time": "2020-06-21T17:33:28.842315Z"
    }
   },
   "outputs": [
    {
     "data": {
      "text/html": [
       "<div>\n",
       "<style scoped>\n",
       "    .dataframe tbody tr th:only-of-type {\n",
       "        vertical-align: middle;\n",
       "    }\n",
       "\n",
       "    .dataframe tbody tr th {\n",
       "        vertical-align: top;\n",
       "    }\n",
       "\n",
       "    .dataframe thead th {\n",
       "        text-align: right;\n",
       "    }\n",
       "</style>\n",
       "<table border=\"1\" class=\"dataframe\">\n",
       "  <thead>\n",
       "    <tr style=\"text-align: right;\">\n",
       "      <th></th>\n",
       "      <th>country</th>\n",
       "      <th>capital</th>\n",
       "      <th>continent</th>\n",
       "      <th>language</th>\n",
       "    </tr>\n",
       "  </thead>\n",
       "  <tbody>\n",
       "    <tr>\n",
       "      <th>2</th>\n",
       "      <td>Spain</td>\n",
       "      <td>Madrid</td>\n",
       "      <td>Europe</td>\n",
       "      <td>Spanish</td>\n",
       "    </tr>\n",
       "    <tr>\n",
       "      <th>3</th>\n",
       "      <td>Mexico</td>\n",
       "      <td>Mexico City</td>\n",
       "      <td>North America</td>\n",
       "      <td>Spanish</td>\n",
       "    </tr>\n",
       "  </tbody>\n",
       "</table>\n",
       "</div>"
      ],
      "text/plain": [
       "  country      capital      continent language\n",
       "2   Spain       Madrid         Europe  Spanish\n",
       "3  Mexico  Mexico City  North America  Spanish"
      ]
     },
     "execution_count": 16,
     "metadata": {},
     "output_type": "execute_result"
    }
   ],
   "source": [
    "df[~df.language.isin(['Dutch', 'English'])]"
   ]
  },
  {
   "cell_type": "code",
   "execution_count": 17,
   "metadata": {
    "ExecuteTime": {
     "end_time": "2020-06-21T17:33:46.536238Z",
     "start_time": "2020-06-21T17:33:46.527559Z"
    }
   },
   "outputs": [
    {
     "data": {
      "text/html": [
       "<div>\n",
       "<style scoped>\n",
       "    .dataframe tbody tr th:only-of-type {\n",
       "        vertical-align: middle;\n",
       "    }\n",
       "\n",
       "    .dataframe tbody tr th {\n",
       "        vertical-align: top;\n",
       "    }\n",
       "\n",
       "    .dataframe thead th {\n",
       "        text-align: right;\n",
       "    }\n",
       "</style>\n",
       "<table border=\"1\" class=\"dataframe\">\n",
       "  <thead>\n",
       "    <tr style=\"text-align: right;\">\n",
       "      <th></th>\n",
       "      <th>country</th>\n",
       "      <th>capital</th>\n",
       "      <th>continent</th>\n",
       "      <th>language</th>\n",
       "    </tr>\n",
       "  </thead>\n",
       "  <tbody>\n",
       "    <tr>\n",
       "      <th>2</th>\n",
       "      <td>Spain</td>\n",
       "      <td>Madrid</td>\n",
       "      <td>Europe</td>\n",
       "      <td>Spanish</td>\n",
       "    </tr>\n",
       "    <tr>\n",
       "      <th>3</th>\n",
       "      <td>Mexico</td>\n",
       "      <td>Mexico City</td>\n",
       "      <td>North America</td>\n",
       "      <td>Spanish</td>\n",
       "    </tr>\n",
       "  </tbody>\n",
       "</table>\n",
       "</div>"
      ],
      "text/plain": [
       "  country      capital      continent language\n",
       "2   Spain       Madrid         Europe  Spanish\n",
       "3  Mexico  Mexico City  North America  Spanish"
      ]
     },
     "execution_count": 17,
     "metadata": {},
     "output_type": "execute_result"
    }
   ],
   "source": [
    "df[~df['language'].isin(['Dutch', 'English'])]"
   ]
  },
  {
   "cell_type": "markdown",
   "metadata": {},
   "source": [
    "# Reverse row order\n",
    "To reverse the row order, we make use of the `.loc( )` operator. This works in the following way:"
   ]
  },
  {
   "cell_type": "code",
   "execution_count": 18,
   "metadata": {
    "ExecuteTime": {
     "end_time": "2020-06-21T17:35:11.047418Z",
     "start_time": "2020-06-21T17:35:11.038553Z"
    }
   },
   "outputs": [
    {
     "data": {
      "text/html": [
       "<div>\n",
       "<style scoped>\n",
       "    .dataframe tbody tr th:only-of-type {\n",
       "        vertical-align: middle;\n",
       "    }\n",
       "\n",
       "    .dataframe tbody tr th {\n",
       "        vertical-align: top;\n",
       "    }\n",
       "\n",
       "    .dataframe thead th {\n",
       "        text-align: right;\n",
       "    }\n",
       "</style>\n",
       "<table border=\"1\" class=\"dataframe\">\n",
       "  <thead>\n",
       "    <tr style=\"text-align: right;\">\n",
       "      <th></th>\n",
       "      <th>country</th>\n",
       "      <th>capital</th>\n",
       "      <th>continent</th>\n",
       "      <th>language</th>\n",
       "    </tr>\n",
       "  </thead>\n",
       "  <tbody>\n",
       "    <tr>\n",
       "      <th>4</th>\n",
       "      <td>Australia</td>\n",
       "      <td>Canberra</td>\n",
       "      <td>Australia</td>\n",
       "      <td>English</td>\n",
       "    </tr>\n",
       "    <tr>\n",
       "      <th>3</th>\n",
       "      <td>Mexico</td>\n",
       "      <td>Mexico City</td>\n",
       "      <td>North America</td>\n",
       "      <td>Spanish</td>\n",
       "    </tr>\n",
       "    <tr>\n",
       "      <th>2</th>\n",
       "      <td>Spain</td>\n",
       "      <td>Madrid</td>\n",
       "      <td>Europe</td>\n",
       "      <td>Spanish</td>\n",
       "    </tr>\n",
       "    <tr>\n",
       "      <th>1</th>\n",
       "      <td>The Netherlands</td>\n",
       "      <td>Amsterdam</td>\n",
       "      <td>Europe</td>\n",
       "      <td>Dutch</td>\n",
       "    </tr>\n",
       "    <tr>\n",
       "      <th>0</th>\n",
       "      <td>United States</td>\n",
       "      <td>Washington D.C.</td>\n",
       "      <td>North America</td>\n",
       "      <td>English</td>\n",
       "    </tr>\n",
       "  </tbody>\n",
       "</table>\n",
       "</div>"
      ],
      "text/plain": [
       "           country          capital      continent language\n",
       "4        Australia         Canberra      Australia  English\n",
       "3           Mexico      Mexico City  North America  Spanish\n",
       "2            Spain           Madrid         Europe  Spanish\n",
       "1  The Netherlands        Amsterdam         Europe    Dutch\n",
       "0    United States  Washington D.C.  North America  English"
      ]
     },
     "execution_count": 18,
     "metadata": {},
     "output_type": "execute_result"
    }
   ],
   "source": [
    "df.loc[::-1]"
   ]
  },
  {
   "cell_type": "markdown",
   "metadata": {},
   "source": [
    "# Reverse column order\n",
    "Reversing the column order goes in a similar way as for the rows:"
   ]
  },
  {
   "cell_type": "code",
   "execution_count": 19,
   "metadata": {
    "ExecuteTime": {
     "end_time": "2020-06-21T17:36:20.439481Z",
     "start_time": "2020-06-21T17:36:20.430564Z"
    }
   },
   "outputs": [
    {
     "data": {
      "text/html": [
       "<div>\n",
       "<style scoped>\n",
       "    .dataframe tbody tr th:only-of-type {\n",
       "        vertical-align: middle;\n",
       "    }\n",
       "\n",
       "    .dataframe tbody tr th {\n",
       "        vertical-align: top;\n",
       "    }\n",
       "\n",
       "    .dataframe thead th {\n",
       "        text-align: right;\n",
       "    }\n",
       "</style>\n",
       "<table border=\"1\" class=\"dataframe\">\n",
       "  <thead>\n",
       "    <tr style=\"text-align: right;\">\n",
       "      <th></th>\n",
       "      <th>language</th>\n",
       "      <th>continent</th>\n",
       "      <th>capital</th>\n",
       "      <th>country</th>\n",
       "    </tr>\n",
       "  </thead>\n",
       "  <tbody>\n",
       "    <tr>\n",
       "      <th>0</th>\n",
       "      <td>English</td>\n",
       "      <td>North America</td>\n",
       "      <td>Washington D.C.</td>\n",
       "      <td>United States</td>\n",
       "    </tr>\n",
       "    <tr>\n",
       "      <th>1</th>\n",
       "      <td>Dutch</td>\n",
       "      <td>Europe</td>\n",
       "      <td>Amsterdam</td>\n",
       "      <td>The Netherlands</td>\n",
       "    </tr>\n",
       "    <tr>\n",
       "      <th>2</th>\n",
       "      <td>Spanish</td>\n",
       "      <td>Europe</td>\n",
       "      <td>Madrid</td>\n",
       "      <td>Spain</td>\n",
       "    </tr>\n",
       "    <tr>\n",
       "      <th>3</th>\n",
       "      <td>Spanish</td>\n",
       "      <td>North America</td>\n",
       "      <td>Mexico City</td>\n",
       "      <td>Mexico</td>\n",
       "    </tr>\n",
       "    <tr>\n",
       "      <th>4</th>\n",
       "      <td>English</td>\n",
       "      <td>Australia</td>\n",
       "      <td>Canberra</td>\n",
       "      <td>Australia</td>\n",
       "    </tr>\n",
       "  </tbody>\n",
       "</table>\n",
       "</div>"
      ],
      "text/plain": [
       "  language      continent          capital          country\n",
       "0  English  North America  Washington D.C.    United States\n",
       "1    Dutch         Europe        Amsterdam  The Netherlands\n",
       "2  Spanish         Europe           Madrid            Spain\n",
       "3  Spanish  North America      Mexico City           Mexico\n",
       "4  English      Australia         Canberra        Australia"
      ]
     },
     "execution_count": 19,
     "metadata": {},
     "output_type": "execute_result"
    }
   ],
   "source": [
    "df.loc[:, ::-1]"
   ]
  },
  {
   "cell_type": "markdown",
   "metadata": {},
   "source": [
    "# `.loc( )`  in more depth\n",
    "\n",
    "## Row selection"
   ]
  },
  {
   "cell_type": "code",
   "execution_count": 22,
   "metadata": {
    "ExecuteTime": {
     "end_time": "2020-06-21T17:56:50.454135Z",
     "start_time": "2020-06-21T17:56:50.449169Z"
    }
   },
   "outputs": [
    {
     "data": {
      "text/plain": [
       "country        United States\n",
       "capital      Washington D.C.\n",
       "continent      North America\n",
       "language             English\n",
       "Name: 0, dtype: object"
      ]
     },
     "execution_count": 22,
     "metadata": {},
     "output_type": "execute_result"
    }
   ],
   "source": [
    "# row zero all columns\n",
    "df.loc[0, :]"
   ]
  },
  {
   "cell_type": "code",
   "execution_count": 26,
   "metadata": {
    "ExecuteTime": {
     "end_time": "2020-06-21T17:59:59.806966Z",
     "start_time": "2020-06-21T17:59:59.798265Z"
    }
   },
   "outputs": [
    {
     "data": {
      "text/html": [
       "<div>\n",
       "<style scoped>\n",
       "    .dataframe tbody tr th:only-of-type {\n",
       "        vertical-align: middle;\n",
       "    }\n",
       "\n",
       "    .dataframe tbody tr th {\n",
       "        vertical-align: top;\n",
       "    }\n",
       "\n",
       "    .dataframe thead th {\n",
       "        text-align: right;\n",
       "    }\n",
       "</style>\n",
       "<table border=\"1\" class=\"dataframe\">\n",
       "  <thead>\n",
       "    <tr style=\"text-align: right;\">\n",
       "      <th></th>\n",
       "      <th>country</th>\n",
       "      <th>capital</th>\n",
       "      <th>continent</th>\n",
       "      <th>language</th>\n",
       "    </tr>\n",
       "  </thead>\n",
       "  <tbody>\n",
       "    <tr>\n",
       "      <th>0</th>\n",
       "      <td>United States</td>\n",
       "      <td>Washington D.C.</td>\n",
       "      <td>North America</td>\n",
       "      <td>English</td>\n",
       "    </tr>\n",
       "    <tr>\n",
       "      <th>1</th>\n",
       "      <td>The Netherlands</td>\n",
       "      <td>Amsterdam</td>\n",
       "      <td>Europe</td>\n",
       "      <td>Dutch</td>\n",
       "    </tr>\n",
       "    <tr>\n",
       "      <th>3</th>\n",
       "      <td>Mexico</td>\n",
       "      <td>Mexico City</td>\n",
       "      <td>North America</td>\n",
       "      <td>Spanish</td>\n",
       "    </tr>\n",
       "  </tbody>\n",
       "</table>\n",
       "</div>"
      ],
      "text/plain": [
       "           country          capital      continent language\n",
       "0    United States  Washington D.C.  North America  English\n",
       "1  The Netherlands        Amsterdam         Europe    Dutch\n",
       "3           Mexico      Mexico City  North America  Spanish"
      ]
     },
     "execution_count": 26,
     "metadata": {},
     "output_type": "execute_result"
    }
   ],
   "source": [
    "# rows 0, 1, & 3, all columns\n",
    "\n",
    "df.loc[[0, 1, 3], :]"
   ]
  },
  {
   "cell_type": "code",
   "execution_count": 25,
   "metadata": {
    "ExecuteTime": {
     "end_time": "2020-06-21T17:59:18.929846Z",
     "start_time": "2020-06-21T17:59:18.921501Z"
    }
   },
   "outputs": [
    {
     "data": {
      "text/html": [
       "<div>\n",
       "<style scoped>\n",
       "    .dataframe tbody tr th:only-of-type {\n",
       "        vertical-align: middle;\n",
       "    }\n",
       "\n",
       "    .dataframe tbody tr th {\n",
       "        vertical-align: top;\n",
       "    }\n",
       "\n",
       "    .dataframe thead th {\n",
       "        text-align: right;\n",
       "    }\n",
       "</style>\n",
       "<table border=\"1\" class=\"dataframe\">\n",
       "  <thead>\n",
       "    <tr style=\"text-align: right;\">\n",
       "      <th></th>\n",
       "      <th>country</th>\n",
       "      <th>capital</th>\n",
       "      <th>continent</th>\n",
       "      <th>language</th>\n",
       "    </tr>\n",
       "  </thead>\n",
       "  <tbody>\n",
       "    <tr>\n",
       "      <th>0</th>\n",
       "      <td>United States</td>\n",
       "      <td>Washington D.C.</td>\n",
       "      <td>North America</td>\n",
       "      <td>English</td>\n",
       "    </tr>\n",
       "    <tr>\n",
       "      <th>1</th>\n",
       "      <td>The Netherlands</td>\n",
       "      <td>Amsterdam</td>\n",
       "      <td>Europe</td>\n",
       "      <td>Dutch</td>\n",
       "    </tr>\n",
       "    <tr>\n",
       "      <th>2</th>\n",
       "      <td>Spain</td>\n",
       "      <td>Madrid</td>\n",
       "      <td>Europe</td>\n",
       "      <td>Spanish</td>\n",
       "    </tr>\n",
       "  </tbody>\n",
       "</table>\n",
       "</div>"
      ],
      "text/plain": [
       "           country          capital      continent language\n",
       "0    United States  Washington D.C.  North America  English\n",
       "1  The Netherlands        Amsterdam         Europe    Dutch\n",
       "2            Spain           Madrid         Europe  Spanish"
      ]
     },
     "execution_count": 25,
     "metadata": {},
     "output_type": "execute_result"
    }
   ],
   "source": [
    "# rows 0 through 2, all columns\n",
    "\n",
    "df.loc[0:2, :]"
   ]
  },
  {
   "cell_type": "markdown",
   "metadata": {},
   "source": [
    "## Column Selection"
   ]
  },
  {
   "cell_type": "code",
   "execution_count": 27,
   "metadata": {
    "ExecuteTime": {
     "end_time": "2020-06-21T18:02:36.104051Z",
     "start_time": "2020-06-21T18:02:36.099562Z"
    }
   },
   "outputs": [
    {
     "data": {
      "text/plain": [
       "0    Washington D.C.\n",
       "1          Amsterdam\n",
       "2             Madrid\n",
       "3        Mexico City\n",
       "4           Canberra\n",
       "Name: capital, dtype: object"
      ]
     },
     "execution_count": 27,
     "metadata": {},
     "output_type": "execute_result"
    }
   ],
   "source": [
    "# All rows, only the 'capital' column\n",
    "\n",
    "df.loc[:, 'capital']"
   ]
  },
  {
   "cell_type": "code",
   "execution_count": 28,
   "metadata": {
    "ExecuteTime": {
     "end_time": "2020-06-21T18:03:21.827852Z",
     "start_time": "2020-06-21T18:03:21.819856Z"
    }
   },
   "outputs": [
    {
     "data": {
      "text/html": [
       "<div>\n",
       "<style scoped>\n",
       "    .dataframe tbody tr th:only-of-type {\n",
       "        vertical-align: middle;\n",
       "    }\n",
       "\n",
       "    .dataframe tbody tr th {\n",
       "        vertical-align: top;\n",
       "    }\n",
       "\n",
       "    .dataframe thead th {\n",
       "        text-align: right;\n",
       "    }\n",
       "</style>\n",
       "<table border=\"1\" class=\"dataframe\">\n",
       "  <thead>\n",
       "    <tr style=\"text-align: right;\">\n",
       "      <th></th>\n",
       "      <th>country</th>\n",
       "      <th>capital</th>\n",
       "    </tr>\n",
       "  </thead>\n",
       "  <tbody>\n",
       "    <tr>\n",
       "      <th>0</th>\n",
       "      <td>United States</td>\n",
       "      <td>Washington D.C.</td>\n",
       "    </tr>\n",
       "    <tr>\n",
       "      <th>1</th>\n",
       "      <td>The Netherlands</td>\n",
       "      <td>Amsterdam</td>\n",
       "    </tr>\n",
       "    <tr>\n",
       "      <th>2</th>\n",
       "      <td>Spain</td>\n",
       "      <td>Madrid</td>\n",
       "    </tr>\n",
       "    <tr>\n",
       "      <th>3</th>\n",
       "      <td>Mexico</td>\n",
       "      <td>Mexico City</td>\n",
       "    </tr>\n",
       "    <tr>\n",
       "      <th>4</th>\n",
       "      <td>Australia</td>\n",
       "      <td>Canberra</td>\n",
       "    </tr>\n",
       "  </tbody>\n",
       "</table>\n",
       "</div>"
      ],
      "text/plain": [
       "           country          capital\n",
       "0    United States  Washington D.C.\n",
       "1  The Netherlands        Amsterdam\n",
       "2            Spain           Madrid\n",
       "3           Mexico      Mexico City\n",
       "4        Australia         Canberra"
      ]
     },
     "execution_count": 28,
     "metadata": {},
     "output_type": "execute_result"
    }
   ],
   "source": [
    "# All rows, only the 'country' and 'capital' columns\n",
    "\n",
    "df.loc[:, ['country', 'capital']]"
   ]
  },
  {
   "cell_type": "code",
   "execution_count": 30,
   "metadata": {
    "ExecuteTime": {
     "end_time": "2020-06-21T18:04:42.846010Z",
     "start_time": "2020-06-21T18:04:42.837585Z"
    }
   },
   "outputs": [
    {
     "data": {
      "text/html": [
       "<div>\n",
       "<style scoped>\n",
       "    .dataframe tbody tr th:only-of-type {\n",
       "        vertical-align: middle;\n",
       "    }\n",
       "\n",
       "    .dataframe tbody tr th {\n",
       "        vertical-align: top;\n",
       "    }\n",
       "\n",
       "    .dataframe thead th {\n",
       "        text-align: right;\n",
       "    }\n",
       "</style>\n",
       "<table border=\"1\" class=\"dataframe\">\n",
       "  <thead>\n",
       "    <tr style=\"text-align: right;\">\n",
       "      <th></th>\n",
       "      <th>capital</th>\n",
       "      <th>continent</th>\n",
       "      <th>language</th>\n",
       "    </tr>\n",
       "  </thead>\n",
       "  <tbody>\n",
       "    <tr>\n",
       "      <th>0</th>\n",
       "      <td>Washington D.C.</td>\n",
       "      <td>North America</td>\n",
       "      <td>English</td>\n",
       "    </tr>\n",
       "    <tr>\n",
       "      <th>1</th>\n",
       "      <td>Amsterdam</td>\n",
       "      <td>Europe</td>\n",
       "      <td>Dutch</td>\n",
       "    </tr>\n",
       "    <tr>\n",
       "      <th>2</th>\n",
       "      <td>Madrid</td>\n",
       "      <td>Europe</td>\n",
       "      <td>Spanish</td>\n",
       "    </tr>\n",
       "    <tr>\n",
       "      <th>3</th>\n",
       "      <td>Mexico City</td>\n",
       "      <td>North America</td>\n",
       "      <td>Spanish</td>\n",
       "    </tr>\n",
       "    <tr>\n",
       "      <th>4</th>\n",
       "      <td>Canberra</td>\n",
       "      <td>Australia</td>\n",
       "      <td>English</td>\n",
       "    </tr>\n",
       "  </tbody>\n",
       "</table>\n",
       "</div>"
      ],
      "text/plain": [
       "           capital      continent language\n",
       "0  Washington D.C.  North America  English\n",
       "1        Amsterdam         Europe    Dutch\n",
       "2           Madrid         Europe  Spanish\n",
       "3      Mexico City  North America  Spanish\n",
       "4         Canberra      Australia  English"
      ]
     },
     "execution_count": 30,
     "metadata": {},
     "output_type": "execute_result"
    }
   ],
   "source": [
    "# All rows, and only the 'capital' through 'language' columns\n",
    "\n",
    "df.loc[:, 'capital':'language']"
   ]
  },
  {
   "cell_type": "markdown",
   "metadata": {},
   "source": [
    "# Combine Methods"
   ]
  },
  {
   "cell_type": "code",
   "execution_count": 31,
   "metadata": {
    "ExecuteTime": {
     "end_time": "2020-06-21T18:06:01.673342Z",
     "start_time": "2020-06-21T18:06:01.663789Z"
    }
   },
   "outputs": [
    {
     "data": {
      "text/html": [
       "<div>\n",
       "<style scoped>\n",
       "    .dataframe tbody tr th:only-of-type {\n",
       "        vertical-align: middle;\n",
       "    }\n",
       "\n",
       "    .dataframe tbody tr th {\n",
       "        vertical-align: top;\n",
       "    }\n",
       "\n",
       "    .dataframe thead th {\n",
       "        text-align: right;\n",
       "    }\n",
       "</style>\n",
       "<table border=\"1\" class=\"dataframe\">\n",
       "  <thead>\n",
       "    <tr style=\"text-align: right;\">\n",
       "      <th></th>\n",
       "      <th>capital</th>\n",
       "      <th>continent</th>\n",
       "      <th>language</th>\n",
       "    </tr>\n",
       "  </thead>\n",
       "  <tbody>\n",
       "    <tr>\n",
       "      <th>1</th>\n",
       "      <td>Amsterdam</td>\n",
       "      <td>Europe</td>\n",
       "      <td>Dutch</td>\n",
       "    </tr>\n",
       "    <tr>\n",
       "      <th>3</th>\n",
       "      <td>Mexico City</td>\n",
       "      <td>North America</td>\n",
       "      <td>Spanish</td>\n",
       "    </tr>\n",
       "  </tbody>\n",
       "</table>\n",
       "</div>"
      ],
      "text/plain": [
       "       capital      continent language\n",
       "1    Amsterdam         Europe    Dutch\n",
       "3  Mexico City  North America  Spanish"
      ]
     },
     "execution_count": 31,
     "metadata": {},
     "output_type": "execute_result"
    }
   ],
   "source": [
    "# Only rows 1 and 3, and all columns 'capital' through 'language'\n",
    "\n",
    "df.loc[[1,3], 'capital':'language']"
   ]
  },
  {
   "cell_type": "markdown",
   "metadata": {},
   "source": [
    "# Boolean Selection"
   ]
  },
  {
   "cell_type": "code",
   "execution_count": 40,
   "metadata": {
    "ExecuteTime": {
     "end_time": "2020-06-21T18:15:43.006725Z",
     "start_time": "2020-06-21T18:15:42.997869Z"
    }
   },
   "outputs": [
    {
     "data": {
      "text/html": [
       "<div>\n",
       "<style scoped>\n",
       "    .dataframe tbody tr th:only-of-type {\n",
       "        vertical-align: middle;\n",
       "    }\n",
       "\n",
       "    .dataframe tbody tr th {\n",
       "        vertical-align: top;\n",
       "    }\n",
       "\n",
       "    .dataframe thead th {\n",
       "        text-align: right;\n",
       "    }\n",
       "</style>\n",
       "<table border=\"1\" class=\"dataframe\">\n",
       "  <thead>\n",
       "    <tr style=\"text-align: right;\">\n",
       "      <th></th>\n",
       "      <th>country</th>\n",
       "      <th>capital</th>\n",
       "      <th>continent</th>\n",
       "      <th>language</th>\n",
       "    </tr>\n",
       "  </thead>\n",
       "  <tbody>\n",
       "    <tr>\n",
       "      <th>2</th>\n",
       "      <td>Spain</td>\n",
       "      <td>Madrid</td>\n",
       "      <td>Europe</td>\n",
       "      <td>Spanish</td>\n",
       "    </tr>\n",
       "    <tr>\n",
       "      <th>3</th>\n",
       "      <td>Mexico</td>\n",
       "      <td>Mexico City</td>\n",
       "      <td>North America</td>\n",
       "      <td>Spanish</td>\n",
       "    </tr>\n",
       "  </tbody>\n",
       "</table>\n",
       "</div>"
      ],
      "text/plain": [
       "  country      capital      continent language\n",
       "2   Spain       Madrid         Europe  Spanish\n",
       "3  Mexico  Mexico City  North America  Spanish"
      ]
     },
     "execution_count": 40,
     "metadata": {},
     "output_type": "execute_result"
    }
   ],
   "source": [
    "# All rows in which 'Spanish' is in the 'language' column - bracket method\n",
    "\n",
    "df[df['language'] == 'Spanish']"
   ]
  },
  {
   "cell_type": "code",
   "execution_count": 44,
   "metadata": {
    "ExecuteTime": {
     "end_time": "2020-06-21T18:20:24.621669Z",
     "start_time": "2020-06-21T18:20:24.612383Z"
    }
   },
   "outputs": [
    {
     "data": {
      "text/html": [
       "<div>\n",
       "<style scoped>\n",
       "    .dataframe tbody tr th:only-of-type {\n",
       "        vertical-align: middle;\n",
       "    }\n",
       "\n",
       "    .dataframe tbody tr th {\n",
       "        vertical-align: top;\n",
       "    }\n",
       "\n",
       "    .dataframe thead th {\n",
       "        text-align: right;\n",
       "    }\n",
       "</style>\n",
       "<table border=\"1\" class=\"dataframe\">\n",
       "  <thead>\n",
       "    <tr style=\"text-align: right;\">\n",
       "      <th></th>\n",
       "      <th>country</th>\n",
       "      <th>capital</th>\n",
       "      <th>continent</th>\n",
       "      <th>language</th>\n",
       "    </tr>\n",
       "  </thead>\n",
       "  <tbody>\n",
       "    <tr>\n",
       "      <th>2</th>\n",
       "      <td>Spain</td>\n",
       "      <td>Madrid</td>\n",
       "      <td>Europe</td>\n",
       "      <td>Spanish</td>\n",
       "    </tr>\n",
       "    <tr>\n",
       "      <th>3</th>\n",
       "      <td>Mexico</td>\n",
       "      <td>Mexico City</td>\n",
       "      <td>North America</td>\n",
       "      <td>Spanish</td>\n",
       "    </tr>\n",
       "  </tbody>\n",
       "</table>\n",
       "</div>"
      ],
      "text/plain": [
       "  country      capital      continent language\n",
       "2   Spain       Madrid         Europe  Spanish\n",
       "3  Mexico  Mexico City  North America  Spanish"
      ]
     },
     "execution_count": 44,
     "metadata": {},
     "output_type": "execute_result"
    }
   ],
   "source": [
    "# All rows in which 'Spanish' is in the 'language' column - dot method\n",
    "\n",
    "df[df.language == 'Spanish']"
   ]
  },
  {
   "cell_type": "markdown",
   "metadata": {
    "ExecuteTime": {
     "end_time": "2020-06-21T18:21:59.221005Z",
     "start_time": "2020-06-21T18:21:59.217324Z"
    }
   },
   "source": [
    "# Exercises"
   ]
  },
  {
   "cell_type": "code",
   "execution_count": 1,
   "metadata": {
    "ExecuteTime": {
     "end_time": "2020-06-27T16:20:29.673876Z",
     "start_time": "2020-06-27T16:20:28.187444Z"
    }
   },
   "outputs": [],
   "source": [
    "# Read in the data to a DataFrame from a url - I'll give this one to you since it is new.\n",
    "\n",
    "import pandas as pd\n",
    "\n",
    "df_ufos = pd.read_csv('http://bit.ly/uforeports')"
   ]
  },
  {
   "cell_type": "code",
   "execution_count": 3,
   "metadata": {
    "ExecuteTime": {
     "end_time": "2020-06-27T16:20:45.064375Z",
     "start_time": "2020-06-27T16:20:45.044857Z"
    }
   },
   "outputs": [
    {
     "name": "stdout",
     "output_type": "stream",
     "text": [
      "<class 'pandas.core.frame.DataFrame'>\n",
      "RangeIndex: 18241 entries, 0 to 18240\n",
      "Data columns (total 5 columns):\n",
      "City               18216 non-null object\n",
      "Colors Reported    2882 non-null object\n",
      "Shape Reported     15597 non-null object\n",
      "State              18241 non-null object\n",
      "Time               18241 non-null object\n",
      "dtypes: object(5)\n",
      "memory usage: 712.7+ KB\n"
     ]
    }
   ],
   "source": [
    "# run a quick EDA on the DataFrame showing the column names, data type for each column, the number of entries,\n",
    "# and the number of non-null values for each entry\n",
    "\n",
    "df_ufos.info()"
   ]
  },
  {
   "cell_type": "code",
   "execution_count": 84,
   "metadata": {
    "ExecuteTime": {
     "end_time": "2020-06-21T18:54:57.482173Z",
     "start_time": "2020-06-21T18:54:57.478517Z"
    }
   },
   "outputs": [
    {
     "data": {
      "text/plain": [
       "(18241, 5)"
      ]
     },
     "execution_count": 84,
     "metadata": {},
     "output_type": "execute_result"
    }
   ],
   "source": [
    "# Find the shape of the DataFrame\n",
    "\n",
    "df_ufos.shape"
   ]
  },
  {
   "cell_type": "code",
   "execution_count": 85,
   "metadata": {
    "ExecuteTime": {
     "end_time": "2020-06-21T18:54:58.069209Z",
     "start_time": "2020-06-21T18:54:58.063825Z"
    }
   },
   "outputs": [
    {
     "data": {
      "text/plain": [
       "array(['NY', 'NJ', 'CO', 'KS', 'ND', 'CA', 'MI', 'AK', 'OR', 'AL', 'SC',\n",
       "       'IA', 'GA', 'TN', 'NE', 'LA', 'KY', 'WV', 'NM', 'UT', 'RI', 'FL',\n",
       "       'VA', 'NC', 'TX', 'WA', 'ME', 'IL', 'AZ', 'OH', 'PA', 'MN', 'WI',\n",
       "       'MD', 'SD', 'NV', 'ID', 'MO', 'OK', 'IN', 'CT', 'MS', 'AR', 'WY',\n",
       "       'MA', 'MT', 'DE', 'NH', 'VT', 'HI', 'Ca', 'Fl'], dtype=object)"
      ]
     },
     "execution_count": 85,
     "metadata": {},
     "output_type": "execute_result"
    }
   ],
   "source": [
    "# Find the unique values in the \"state\" column\n",
    "\n",
    "df_ufos['State'].unique()"
   ]
  },
  {
   "cell_type": "code",
   "execution_count": 86,
   "metadata": {
    "ExecuteTime": {
     "end_time": "2020-06-21T18:54:58.558616Z",
     "start_time": "2020-06-21T18:54:58.544057Z"
    }
   },
   "outputs": [
    {
     "data": {
      "text/html": [
       "<div>\n",
       "<style scoped>\n",
       "    .dataframe tbody tr th:only-of-type {\n",
       "        vertical-align: middle;\n",
       "    }\n",
       "\n",
       "    .dataframe tbody tr th {\n",
       "        vertical-align: top;\n",
       "    }\n",
       "\n",
       "    .dataframe thead th {\n",
       "        text-align: right;\n",
       "    }\n",
       "</style>\n",
       "<table border=\"1\" class=\"dataframe\">\n",
       "  <thead>\n",
       "    <tr style=\"text-align: right;\">\n",
       "      <th></th>\n",
       "      <th>City</th>\n",
       "      <th>Colors Reported</th>\n",
       "      <th>Shape Reported</th>\n",
       "      <th>State</th>\n",
       "      <th>Time</th>\n",
       "    </tr>\n",
       "  </thead>\n",
       "  <tbody>\n",
       "    <tr>\n",
       "      <th>45</th>\n",
       "      <td>Index</td>\n",
       "      <td>NaN</td>\n",
       "      <td>FIREBALL</td>\n",
       "      <td>WA</td>\n",
       "      <td>6/30/1946 21:00</td>\n",
       "    </tr>\n",
       "    <tr>\n",
       "      <th>62</th>\n",
       "      <td>Tacoma</td>\n",
       "      <td>NaN</td>\n",
       "      <td>OTHER</td>\n",
       "      <td>WA</td>\n",
       "      <td>6/30/1947 0:00</td>\n",
       "    </tr>\n",
       "    <tr>\n",
       "      <th>64</th>\n",
       "      <td>Cashmere</td>\n",
       "      <td>NaN</td>\n",
       "      <td>FORMATION</td>\n",
       "      <td>WA</td>\n",
       "      <td>7/1/1947 20:00</td>\n",
       "    </tr>\n",
       "    <tr>\n",
       "      <th>68</th>\n",
       "      <td>Seattle</td>\n",
       "      <td>NaN</td>\n",
       "      <td>OVAL</td>\n",
       "      <td>WA</td>\n",
       "      <td>7/4/1947 17:30</td>\n",
       "    </tr>\n",
       "    <tr>\n",
       "      <th>99</th>\n",
       "      <td>Seattle</td>\n",
       "      <td>NaN</td>\n",
       "      <td>DISK</td>\n",
       "      <td>WA</td>\n",
       "      <td>4/10/1949 15:00</td>\n",
       "    </tr>\n",
       "    <tr>\n",
       "      <th>...</th>\n",
       "      <td>...</td>\n",
       "      <td>...</td>\n",
       "      <td>...</td>\n",
       "      <td>...</td>\n",
       "      <td>...</td>\n",
       "    </tr>\n",
       "    <tr>\n",
       "      <th>18150</th>\n",
       "      <td>Spokane</td>\n",
       "      <td>NaN</td>\n",
       "      <td>LIGHT</td>\n",
       "      <td>WA</td>\n",
       "      <td>12/18/2000 17:00</td>\n",
       "    </tr>\n",
       "    <tr>\n",
       "      <th>18168</th>\n",
       "      <td>Bellingham</td>\n",
       "      <td>NaN</td>\n",
       "      <td>SPHERE</td>\n",
       "      <td>WA</td>\n",
       "      <td>12/21/2000 19:10</td>\n",
       "    </tr>\n",
       "    <tr>\n",
       "      <th>18176</th>\n",
       "      <td>Seattle</td>\n",
       "      <td>NaN</td>\n",
       "      <td>NaN</td>\n",
       "      <td>WA</td>\n",
       "      <td>12/23/2000 20:00</td>\n",
       "    </tr>\n",
       "    <tr>\n",
       "      <th>18180</th>\n",
       "      <td>Moses Lake</td>\n",
       "      <td>NaN</td>\n",
       "      <td>TRIANGLE</td>\n",
       "      <td>WA</td>\n",
       "      <td>12/24/2000 8:32</td>\n",
       "    </tr>\n",
       "    <tr>\n",
       "      <th>18204</th>\n",
       "      <td>Bremerton</td>\n",
       "      <td>NaN</td>\n",
       "      <td>OTHER</td>\n",
       "      <td>WA</td>\n",
       "      <td>12/28/2000 3:00</td>\n",
       "    </tr>\n",
       "  </tbody>\n",
       "</table>\n",
       "<p>1322 rows × 5 columns</p>\n",
       "</div>"
      ],
      "text/plain": [
       "             City Colors Reported Shape Reported State              Time\n",
       "45          Index             NaN       FIREBALL    WA   6/30/1946 21:00\n",
       "62         Tacoma             NaN          OTHER    WA    6/30/1947 0:00\n",
       "64       Cashmere             NaN      FORMATION    WA    7/1/1947 20:00\n",
       "68        Seattle             NaN           OVAL    WA    7/4/1947 17:30\n",
       "99        Seattle             NaN           DISK    WA   4/10/1949 15:00\n",
       "...           ...             ...            ...   ...               ...\n",
       "18150     Spokane             NaN          LIGHT    WA  12/18/2000 17:00\n",
       "18168  Bellingham             NaN         SPHERE    WA  12/21/2000 19:10\n",
       "18176     Seattle             NaN            NaN    WA  12/23/2000 20:00\n",
       "18180  Moses Lake             NaN       TRIANGLE    WA   12/24/2000 8:32\n",
       "18204   Bremerton             NaN          OTHER    WA   12/28/2000 3:00\n",
       "\n",
       "[1322 rows x 5 columns]"
      ]
     },
     "metadata": {},
     "output_type": "display_data"
    }
   ],
   "source": [
    "# display all of the UFO incidents that occurred in Washington and save it as a df of its own\n",
    "\n",
    "wa_ufos_df = df_ufos[df_ufos['State'] == 'WA']\n",
    "\n",
    "display(wa_ufos_df)"
   ]
  },
  {
   "cell_type": "code",
   "execution_count": 87,
   "metadata": {
    "ExecuteTime": {
     "end_time": "2020-06-21T18:54:59.057729Z",
     "start_time": "2020-06-21T18:54:59.040172Z"
    }
   },
   "outputs": [
    {
     "data": {
      "text/plain": [
       "Seattle                      187\n",
       "Tacoma                        52\n",
       "Spokane                       49\n",
       "Vancouver                     34\n",
       "Auburn                        29\n",
       "                            ... \n",
       "Chinook                        1\n",
       "Mt. Rainier National Park      1\n",
       "Rocky Point                    1\n",
       "Startup                        1\n",
       "Hwy. 18                        1\n",
       "Name: City, Length: 347, dtype: int64"
      ]
     },
     "metadata": {},
     "output_type": "display_data"
    },
    {
     "data": {
      "text/plain": [
       "array(['Index', 'Tacoma', 'Cashmere', 'Seattle', 'Steilacoom',\n",
       "       'Fort Lewis', 'Otis Orchards', 'Spokane Valley', 'Allyn', 'Auburn',\n",
       "       'North Bend', 'Richland', 'Wenatchee', 'Kelso', 'Puyallup',\n",
       "       'Carnation', 'Longview', 'Silverdale', 'Bellevue', 'Castle Rock',\n",
       "       'Marysville', 'Yakima', 'Silverfdale', 'Cottonwood', 'Sumner',\n",
       "       'Snohomish', 'Joyce', 'San Juan Island', 'Normandy Park',\n",
       "       'Washougal', 'Camas', 'North Yakima', 'Hoquiam', 'Burlington',\n",
       "       'Colville', 'Kennewick', 'Fairmont', 'Leavenworth',\n",
       "       'Bonney Lake area', 'Kent', 'Bellingham', 'Toutle River',\n",
       "       'Lake Cushman', 'Renton', 'Seatac', 'Pasco', 'Anacortes',\n",
       "       'Ft. Lewis', 'Burien', 'Blaine', 'Walla Walla', 'Lake Dorothy',\n",
       "       'Oroville', 'Issaquah', 'Molson', 'Vancouver', 'Spokane',\n",
       "       'Woodland', 'Bremerton', 'Ellensburg', 'Maple Valley', 'Monroe',\n",
       "       'Plain', 'Sultan', 'Oak Harbor', 'Kirkland', 'Olympia', 'Rosalia',\n",
       "       'Lynden', 'Redondo', 'Spanaway', 'Fall City', 'Cowiche', 'Pomeroy',\n",
       "       'Sedro-Woolley', 'Shoreline', 'Lopez Island', 'Grand Coulee',\n",
       "       'Federal Way', 'Everett', 'Bonney Lake', 'Warden', 'Vashon Island',\n",
       "       'Mountlake Terrace', 'Hoodsport', 'Stevens Pass', 'Ridgefield',\n",
       "       'Toppenish', 'Stanwood', 'Covington', 'Sunnyside',\n",
       "       'Mt. Rainier National Park', 'Deer Park', 'Woodinville',\n",
       "       'Whidbey Island', 'Maxwelton Beach', 'N. Cascades Nat. Park',\n",
       "       'Gig Harbor', 'Rochester', 'Ethell', 'Yacolt',\n",
       "       'Gifford Pinchot National Forrest', 'Hansville', 'Aberdeen',\n",
       "       'Olalla', 'Sequim', 'Baker Lake', 'Mount Rainier National Park',\n",
       "       'Banks Lake', 'Snoqualmine', 'Colfax', 'Methow', 'Birch Bay',\n",
       "       'Copalis Beach', 'Mercer Island', 'Black Diamond', 'Arlington',\n",
       "       'Shelton', 'Redmond', 'Kitsap County', 'Connell', 'Carlsberg',\n",
       "       'Port Townsend', 'Centralia', 'Orting', 'Snohomish Co.', 'Pateros',\n",
       "       'Chinook', 'Okanogan', 'Yakima Indian Reservation',\n",
       "       'Yakama Indian Reservation', 'Spirit Lake Highway', 'Coupeville',\n",
       "       'Tonasket', 'Cougar', 'Meadowdale', 'Milton', 'NAS Whidby Island',\n",
       "       'Matlock', 'Lynnwood', 'Gold Bar', 'Maltby', 'Randle',\n",
       "       'N. Seattle', 'Lacey', 'Moses Lake', 'Tekoa', 'Carbonado',\n",
       "       'Orcas Island', 'Bingen', 'Neah Bay', 'La Crosse', 'Roy',\n",
       "       'Warm Beach', 'Morton', 'Poulsbo', 'Concrete', 'Chimacum',\n",
       "       'Port Hadlock', 'Nine Mile Falls', 'Raymond', 'Quilcene',\n",
       "       'Vantage', 'North Cove', 'Lake Tahuyeh', 'Colville Reservation',\n",
       "       'Mill Creek', 'Mt. Vernon', 'Mukilteo', 'Electric City',\n",
       "       'Eastgate', 'Burley', 'Whatcom County', 'Hwy. 18', 'Snoqualmie',\n",
       "       'Elma', 'Friday Harbor', 'MM 99 mile Exit', 'Kalama', 'Lakewood',\n",
       "       'Ferndale', 'Benton City', 'Tumwater', 'Port Angeles',\n",
       "       'Longbranch', 'Ocean Shores', 'Fircrest', 'East Tacoma',\n",
       "       'South Prarie', 'Edmonds', 'Pacific', 'Port Orchard',\n",
       "       'West Seattle', 'Hazel Dell', 'Crescent Lake', 'Bothell',\n",
       "       'Lancaster', 'Snoqualmie Pass', 'Arcadia Shores', 'Fife',\n",
       "       'Hoh River', 'South Park', 'Granite', 'Holly', 'Laporte',\n",
       "       'Des Moines', 'Dayton', 'Rocky Point', nan, 'Startup', 'Manson',\n",
       "       'Sedro Woolley', 'Chelan', 'Rock Island', 'Wishkah River',\n",
       "       'Nisqually Delta', 'Lake Stevens', 'Scottsdale', 'Monitor',\n",
       "       'Walla Walla Airport', 'Marblemount', 'Langley', 'Granite Falls',\n",
       "       'Troutdale', 'Newcastle', 'Tri-Cities', 'Guemes Island',\n",
       "       'N. Everett', 'Cle Elum', 'Rockford', 'Lakebay', 'Cascade Mtns.',\n",
       "       'Hoh Rain Forest', 'University Place', 'Brinnon',\n",
       "       'Metalline Falls', 'George', 'Creston', 'Forks', 'Duvall',\n",
       "       'Lake City', 'Outlook', 'Long Beach', 'La Conner', 'Winthrop',\n",
       "       'Pullman', 'Trout Lake', 'North Lynnwood', 'Sammamish', 'Rosburg',\n",
       "       'Enumclaw', 'Buena Vista', 'Kenmore', 'Freeland', 'East Wenatchee',\n",
       "       'I-90', 'Graham', 'Grayland', 'Bangor Submarine Base', 'Republic',\n",
       "       'West Richland', 'Loomis', 'South Prairie', 'Tukwila',\n",
       "       'Rimrock Lake', 'Blewett Pass-top of mountain pass',\n",
       "       'San Juan Islands', 'Illwaco', 'Frances',\n",
       "       'Mt. Rainier north side, near Cateract Valley', 'Manashtash Ridge',\n",
       "       'Mt. Baker', 'Bayview', 'Roslyn', 'Wauconda', 'Nisqually',\n",
       "       'Suquamish', 'Columbia River { mile marker 230}', 'Silverlake',\n",
       "       'Mattawa', 'Cheney', 'Battle Ground', 'Bainbridge Island',\n",
       "       'Camano Island', 'Puget Sound', 'Valley', 'Addy', 'Suncrest',\n",
       "       'Indianola', 'Selah', 'Buckley', 'Greenwater', 'Lyle',\n",
       "       'Olympic Mountains', 'Westport', 'East Hoquiam', 'Seabeck',\n",
       "       'Grandview', 'Hatton', 'Edgewood', 'Winlock', 'Ballard',\n",
       "       'Maury Island', 'Sun Cove', 'Olympic National Park', 'Brier',\n",
       "       'Mica Mountain', 'Wiley', 'Desert Aire', 'Mt Rainier',\n",
       "       'Goldendale', 'Mount Vernon', 'Montesano', 'Orondo', 'Mead',\n",
       "       'Conconully', 'Ritzville', 'Everson', 'Kingston', 'Clinton',\n",
       "       'Sprague', 'Yelm', 'Ephrata', 'Saddle Mountains', 'Purdy',\n",
       "       'Toledo', 'Newman Lake', 'Northbend', 'Harrington', 'Northport',\n",
       "       'Sea Tac Airport', 'Malo',\n",
       "       'Des Moines--4 blocks east of the Marina, Wash', 'Tokeland',\n",
       "       'Hwy 12', 'Cottage Grove', 'Stanwood - I-5 corridor', 'Deer Lake',\n",
       "       'Crescent Bar', 'Key Peninsula', 'Maple Falls', 'Liberty', 'Bow',\n",
       "       'Vaughn', 'Elmira', 'Mt Vernon', 'Darrington', 'Fargher Lake'],\n",
       "      dtype=object)"
      ]
     },
     "metadata": {},
     "output_type": "display_data"
    },
    {
     "data": {
      "text/html": [
       "<div>\n",
       "<style scoped>\n",
       "    .dataframe tbody tr th:only-of-type {\n",
       "        vertical-align: middle;\n",
       "    }\n",
       "\n",
       "    .dataframe tbody tr th {\n",
       "        vertical-align: top;\n",
       "    }\n",
       "\n",
       "    .dataframe thead th {\n",
       "        text-align: right;\n",
       "    }\n",
       "</style>\n",
       "<table border=\"1\" class=\"dataframe\">\n",
       "  <thead>\n",
       "    <tr style=\"text-align: right;\">\n",
       "      <th></th>\n",
       "      <th>City</th>\n",
       "      <th>Colors Reported</th>\n",
       "      <th>Shape Reported</th>\n",
       "      <th>State</th>\n",
       "      <th>Time</th>\n",
       "    </tr>\n",
       "  </thead>\n",
       "  <tbody>\n",
       "    <tr>\n",
       "      <th>4216</th>\n",
       "      <td>Gig Harbor</td>\n",
       "      <td>NaN</td>\n",
       "      <td>CIRCLE</td>\n",
       "      <td>WA</td>\n",
       "      <td>10/15/1979 21:00</td>\n",
       "    </tr>\n",
       "    <tr>\n",
       "      <th>6473</th>\n",
       "      <td>Gig Harbor</td>\n",
       "      <td>NaN</td>\n",
       "      <td>FIREBALL</td>\n",
       "      <td>WA</td>\n",
       "      <td>11/15/1990 18:00</td>\n",
       "    </tr>\n",
       "    <tr>\n",
       "      <th>7046</th>\n",
       "      <td>Gig Harbor</td>\n",
       "      <td>NaN</td>\n",
       "      <td>DISK</td>\n",
       "      <td>WA</td>\n",
       "      <td>6/1/1993 16:00</td>\n",
       "    </tr>\n",
       "    <tr>\n",
       "      <th>7654</th>\n",
       "      <td>Gig Harbor</td>\n",
       "      <td>RED</td>\n",
       "      <td>NaN</td>\n",
       "      <td>WA</td>\n",
       "      <td>12/31/1994 18:32</td>\n",
       "    </tr>\n",
       "    <tr>\n",
       "      <th>8509</th>\n",
       "      <td>Gig Harbor</td>\n",
       "      <td>NaN</td>\n",
       "      <td>NaN</td>\n",
       "      <td>WA</td>\n",
       "      <td>8/13/1995 22:00</td>\n",
       "    </tr>\n",
       "    <tr>\n",
       "      <th>10885</th>\n",
       "      <td>Gig Harbor</td>\n",
       "      <td>NaN</td>\n",
       "      <td>LIGHT</td>\n",
       "      <td>WA</td>\n",
       "      <td>10/20/1997 8:45</td>\n",
       "    </tr>\n",
       "    <tr>\n",
       "      <th>10950</th>\n",
       "      <td>Gig Harbor</td>\n",
       "      <td>NaN</td>\n",
       "      <td>FORMATION</td>\n",
       "      <td>WA</td>\n",
       "      <td>11/14/1997 21:00</td>\n",
       "    </tr>\n",
       "    <tr>\n",
       "      <th>13579</th>\n",
       "      <td>Gig Harbor</td>\n",
       "      <td>NaN</td>\n",
       "      <td>CIRCLE</td>\n",
       "      <td>WA</td>\n",
       "      <td>6/1/1999 1:00</td>\n",
       "    </tr>\n",
       "    <tr>\n",
       "      <th>16251</th>\n",
       "      <td>Gig Harbor</td>\n",
       "      <td>NaN</td>\n",
       "      <td>DISK</td>\n",
       "      <td>WA</td>\n",
       "      <td>4/15/2000 13:45</td>\n",
       "    </tr>\n",
       "    <tr>\n",
       "      <th>16374</th>\n",
       "      <td>Gig Harbor</td>\n",
       "      <td>NaN</td>\n",
       "      <td>SPHERE</td>\n",
       "      <td>WA</td>\n",
       "      <td>5/4/2000 10:30</td>\n",
       "    </tr>\n",
       "  </tbody>\n",
       "</table>\n",
       "</div>"
      ],
      "text/plain": [
       "             City Colors Reported Shape Reported State              Time\n",
       "4216   Gig Harbor             NaN         CIRCLE    WA  10/15/1979 21:00\n",
       "6473   Gig Harbor             NaN       FIREBALL    WA  11/15/1990 18:00\n",
       "7046   Gig Harbor             NaN           DISK    WA    6/1/1993 16:00\n",
       "7654   Gig Harbor             RED            NaN    WA  12/31/1994 18:32\n",
       "8509   Gig Harbor             NaN            NaN    WA   8/13/1995 22:00\n",
       "10885  Gig Harbor             NaN          LIGHT    WA   10/20/1997 8:45\n",
       "10950  Gig Harbor             NaN      FORMATION    WA  11/14/1997 21:00\n",
       "13579  Gig Harbor             NaN         CIRCLE    WA     6/1/1999 1:00\n",
       "16251  Gig Harbor             NaN           DISK    WA   4/15/2000 13:45\n",
       "16374  Gig Harbor             NaN         SPHERE    WA    5/4/2000 10:30"
      ]
     },
     "metadata": {},
     "output_type": "display_data"
    }
   ],
   "source": [
    "# Find the number of incidents that occurred in each city in Washington from the Washington DF you just made\n",
    "\n",
    "display(wa_ufos_df['City'].value_counts())\n",
    "\n",
    "# Display all of the unique cities in Washington where an incident occurred\n",
    "\n",
    "display(wa_ufos_df['City'].unique())\n",
    "\n",
    "# Select a single city and display the incidents which occurred in that city\n",
    "\n",
    "display(wa_ufos_df[wa_ufos_df['City']==\"Gig Harbor\"])"
   ]
  },
  {
   "cell_type": "code",
   "execution_count": 88,
   "metadata": {
    "ExecuteTime": {
     "end_time": "2020-06-21T18:54:59.485872Z",
     "start_time": "2020-06-21T18:54:59.475312Z"
    }
   },
   "outputs": [
    {
     "data": {
      "text/html": [
       "<div>\n",
       "<style scoped>\n",
       "    .dataframe tbody tr th:only-of-type {\n",
       "        vertical-align: middle;\n",
       "    }\n",
       "\n",
       "    .dataframe tbody tr th {\n",
       "        vertical-align: top;\n",
       "    }\n",
       "\n",
       "    .dataframe thead th {\n",
       "        text-align: right;\n",
       "    }\n",
       "</style>\n",
       "<table border=\"1\" class=\"dataframe\">\n",
       "  <thead>\n",
       "    <tr style=\"text-align: right;\">\n",
       "      <th></th>\n",
       "      <th>City</th>\n",
       "      <th>Colors Reported</th>\n",
       "      <th>Shape Reported</th>\n",
       "      <th>State</th>\n",
       "      <th>Time</th>\n",
       "    </tr>\n",
       "  </thead>\n",
       "  <tbody>\n",
       "    <tr>\n",
       "      <th>4216</th>\n",
       "      <td>Gig Harbor</td>\n",
       "      <td>NaN</td>\n",
       "      <td>CIRCLE</td>\n",
       "      <td>WA</td>\n",
       "      <td>10/15/1979 21:00</td>\n",
       "    </tr>\n",
       "    <tr>\n",
       "      <th>6473</th>\n",
       "      <td>Gig Harbor</td>\n",
       "      <td>NaN</td>\n",
       "      <td>FIREBALL</td>\n",
       "      <td>WA</td>\n",
       "      <td>11/15/1990 18:00</td>\n",
       "    </tr>\n",
       "    <tr>\n",
       "      <th>7046</th>\n",
       "      <td>Gig Harbor</td>\n",
       "      <td>NaN</td>\n",
       "      <td>DISK</td>\n",
       "      <td>WA</td>\n",
       "      <td>6/1/1993 16:00</td>\n",
       "    </tr>\n",
       "    <tr>\n",
       "      <th>7654</th>\n",
       "      <td>Gig Harbor</td>\n",
       "      <td>RED</td>\n",
       "      <td>NaN</td>\n",
       "      <td>WA</td>\n",
       "      <td>12/31/1994 18:32</td>\n",
       "    </tr>\n",
       "    <tr>\n",
       "      <th>8509</th>\n",
       "      <td>Gig Harbor</td>\n",
       "      <td>NaN</td>\n",
       "      <td>NaN</td>\n",
       "      <td>WA</td>\n",
       "      <td>8/13/1995 22:00</td>\n",
       "    </tr>\n",
       "    <tr>\n",
       "      <th>10885</th>\n",
       "      <td>Gig Harbor</td>\n",
       "      <td>NaN</td>\n",
       "      <td>LIGHT</td>\n",
       "      <td>WA</td>\n",
       "      <td>10/20/1997 8:45</td>\n",
       "    </tr>\n",
       "    <tr>\n",
       "      <th>10950</th>\n",
       "      <td>Gig Harbor</td>\n",
       "      <td>NaN</td>\n",
       "      <td>FORMATION</td>\n",
       "      <td>WA</td>\n",
       "      <td>11/14/1997 21:00</td>\n",
       "    </tr>\n",
       "    <tr>\n",
       "      <th>13579</th>\n",
       "      <td>Gig Harbor</td>\n",
       "      <td>NaN</td>\n",
       "      <td>CIRCLE</td>\n",
       "      <td>WA</td>\n",
       "      <td>6/1/1999 1:00</td>\n",
       "    </tr>\n",
       "    <tr>\n",
       "      <th>16251</th>\n",
       "      <td>Gig Harbor</td>\n",
       "      <td>NaN</td>\n",
       "      <td>DISK</td>\n",
       "      <td>WA</td>\n",
       "      <td>4/15/2000 13:45</td>\n",
       "    </tr>\n",
       "    <tr>\n",
       "      <th>16374</th>\n",
       "      <td>Gig Harbor</td>\n",
       "      <td>NaN</td>\n",
       "      <td>SPHERE</td>\n",
       "      <td>WA</td>\n",
       "      <td>5/4/2000 10:30</td>\n",
       "    </tr>\n",
       "  </tbody>\n",
       "</table>\n",
       "</div>"
      ],
      "text/plain": [
       "             City Colors Reported Shape Reported State              Time\n",
       "4216   Gig Harbor             NaN         CIRCLE    WA  10/15/1979 21:00\n",
       "6473   Gig Harbor             NaN       FIREBALL    WA  11/15/1990 18:00\n",
       "7046   Gig Harbor             NaN           DISK    WA    6/1/1993 16:00\n",
       "7654   Gig Harbor             RED            NaN    WA  12/31/1994 18:32\n",
       "8509   Gig Harbor             NaN            NaN    WA   8/13/1995 22:00\n",
       "10885  Gig Harbor             NaN          LIGHT    WA   10/20/1997 8:45\n",
       "10950  Gig Harbor             NaN      FORMATION    WA  11/14/1997 21:00\n",
       "13579  Gig Harbor             NaN         CIRCLE    WA     6/1/1999 1:00\n",
       "16251  Gig Harbor             NaN           DISK    WA   4/15/2000 13:45\n",
       "16374  Gig Harbor             NaN         SPHERE    WA    5/4/2000 10:30"
      ]
     },
     "execution_count": 88,
     "metadata": {},
     "output_type": "execute_result"
    }
   ],
   "source": [
    "# Establish a DF for all of the incidents that occurred in Gig Harbor, then display it\n",
    "\n",
    "gh_ufos_df = wa_ufos_df[wa_ufos_df.City == 'Gig Harbor']\n",
    "\n",
    "gh_ufos_df"
   ]
  },
  {
   "cell_type": "markdown",
   "metadata": {},
   "source": [
    "## Bonus Exercise 1\n",
    "\n",
    "There are two mistypes in the 'State' column of the original dataset. Find them and correct them. "
   ]
  },
  {
   "cell_type": "code",
   "execution_count": 89,
   "metadata": {
    "ExecuteTime": {
     "end_time": "2020-06-21T18:55:00.828685Z",
     "start_time": "2020-06-21T18:55:00.823494Z"
    }
   },
   "outputs": [
    {
     "data": {
      "text/plain": [
       "array(['NY', 'NJ', 'CO', 'KS', 'ND', 'CA', 'MI', 'AK', 'OR', 'AL', 'SC',\n",
       "       'IA', 'GA', 'TN', 'NE', 'LA', 'KY', 'WV', 'NM', 'UT', 'RI', 'FL',\n",
       "       'VA', 'NC', 'TX', 'WA', 'ME', 'IL', 'AZ', 'OH', 'PA', 'MN', 'WI',\n",
       "       'MD', 'SD', 'NV', 'ID', 'MO', 'OK', 'IN', 'CT', 'MS', 'AR', 'WY',\n",
       "       'MA', 'MT', 'DE', 'NH', 'VT', 'HI', 'Ca', 'Fl'], dtype=object)"
      ]
     },
     "execution_count": 89,
     "metadata": {},
     "output_type": "execute_result"
    }
   ],
   "source": [
    "# Find the errors\n",
    "\n",
    "df_ufos['State'].unique()"
   ]
  },
  {
   "cell_type": "code",
   "execution_count": 90,
   "metadata": {
    "ExecuteTime": {
     "end_time": "2020-06-21T18:55:02.302939Z",
     "start_time": "2020-06-21T18:55:02.281039Z"
    }
   },
   "outputs": [
    {
     "data": {
      "text/html": [
       "<div>\n",
       "<style scoped>\n",
       "    .dataframe tbody tr th:only-of-type {\n",
       "        vertical-align: middle;\n",
       "    }\n",
       "\n",
       "    .dataframe tbody tr th {\n",
       "        vertical-align: top;\n",
       "    }\n",
       "\n",
       "    .dataframe thead th {\n",
       "        text-align: right;\n",
       "    }\n",
       "</style>\n",
       "<table border=\"1\" class=\"dataframe\">\n",
       "  <thead>\n",
       "    <tr style=\"text-align: right;\">\n",
       "      <th></th>\n",
       "      <th>City</th>\n",
       "      <th>Colors Reported</th>\n",
       "      <th>Shape Reported</th>\n",
       "      <th>State</th>\n",
       "      <th>Time</th>\n",
       "    </tr>\n",
       "  </thead>\n",
       "  <tbody>\n",
       "    <tr>\n",
       "      <th>6750</th>\n",
       "      <td>Landers</td>\n",
       "      <td>NaN</td>\n",
       "      <td>FIREBALL</td>\n",
       "      <td>Ca</td>\n",
       "      <td>4/15/1992 22:00</td>\n",
       "    </tr>\n",
       "  </tbody>\n",
       "</table>\n",
       "</div>"
      ],
      "text/plain": [
       "         City Colors Reported Shape Reported State             Time\n",
       "6750  Landers             NaN       FIREBALL    Ca  4/15/1992 22:00"
      ]
     },
     "metadata": {},
     "output_type": "display_data"
    },
    {
     "data": {
      "text/html": [
       "<div>\n",
       "<style scoped>\n",
       "    .dataframe tbody tr th:only-of-type {\n",
       "        vertical-align: middle;\n",
       "    }\n",
       "\n",
       "    .dataframe tbody tr th {\n",
       "        vertical-align: top;\n",
       "    }\n",
       "\n",
       "    .dataframe thead th {\n",
       "        text-align: right;\n",
       "    }\n",
       "</style>\n",
       "<table border=\"1\" class=\"dataframe\">\n",
       "  <thead>\n",
       "    <tr style=\"text-align: right;\">\n",
       "      <th></th>\n",
       "      <th>City</th>\n",
       "      <th>Colors Reported</th>\n",
       "      <th>Shape Reported</th>\n",
       "      <th>State</th>\n",
       "      <th>Time</th>\n",
       "    </tr>\n",
       "  </thead>\n",
       "  <tbody>\n",
       "    <tr>\n",
       "      <th>9263</th>\n",
       "      <td>Fort Walton Beach</td>\n",
       "      <td>NaN</td>\n",
       "      <td>NaN</td>\n",
       "      <td>Fl</td>\n",
       "      <td>4/28/1996 0:10</td>\n",
       "    </tr>\n",
       "    <tr>\n",
       "      <th>9316</th>\n",
       "      <td>Miami</td>\n",
       "      <td>ORANGE</td>\n",
       "      <td>NaN</td>\n",
       "      <td>Fl</td>\n",
       "      <td>5/17/1996 1:30</td>\n",
       "    </tr>\n",
       "    <tr>\n",
       "      <th>9328</th>\n",
       "      <td>Venice</td>\n",
       "      <td>NaN</td>\n",
       "      <td>NaN</td>\n",
       "      <td>Fl</td>\n",
       "      <td>5/22/1996 20:30</td>\n",
       "    </tr>\n",
       "    <tr>\n",
       "      <th>9335</th>\n",
       "      <td>Fort Myers</td>\n",
       "      <td>NaN</td>\n",
       "      <td>NaN</td>\n",
       "      <td>Fl</td>\n",
       "      <td>5/26/1996 1:55</td>\n",
       "    </tr>\n",
       "  </tbody>\n",
       "</table>\n",
       "</div>"
      ],
      "text/plain": [
       "                   City Colors Reported Shape Reported State             Time\n",
       "9263  Fort Walton Beach             NaN            NaN    Fl   4/28/1996 0:10\n",
       "9316              Miami          ORANGE            NaN    Fl   5/17/1996 1:30\n",
       "9328             Venice             NaN            NaN    Fl  5/22/1996 20:30\n",
       "9335         Fort Myers             NaN            NaN    Fl   5/26/1996 1:55"
      ]
     },
     "metadata": {},
     "output_type": "display_data"
    }
   ],
   "source": [
    "# Find the rows that contain each of the errors and display them\n",
    "\n",
    "display(df_ufos[df_ufos['State'] == 'Ca'])\n",
    "display(df_ufos[df_ufos['State'] == 'Fl'])"
   ]
  },
  {
   "cell_type": "code",
   "execution_count": 91,
   "metadata": {
    "ExecuteTime": {
     "end_time": "2020-06-21T18:55:04.010676Z",
     "start_time": "2020-06-21T18:55:04.004249Z"
    }
   },
   "outputs": [],
   "source": [
    "# Correct the errors for the first group\n",
    "\n",
    "df_ufos.loc[6750, 'State'] = 'CA'"
   ]
  },
  {
   "cell_type": "code",
   "execution_count": 92,
   "metadata": {
    "ExecuteTime": {
     "end_time": "2020-06-21T18:55:05.464020Z",
     "start_time": "2020-06-21T18:55:05.458261Z"
    }
   },
   "outputs": [],
   "source": [
    "# Correct the errors for the second group\n",
    "\n",
    "df_ufos.loc[[9263, 9316, 9328, 9335], 'State'] = 'FL'"
   ]
  },
  {
   "cell_type": "code",
   "execution_count": 93,
   "metadata": {
    "ExecuteTime": {
     "end_time": "2020-06-21T18:55:06.739060Z",
     "start_time": "2020-06-21T18:55:06.733915Z"
    }
   },
   "outputs": [
    {
     "data": {
      "text/plain": [
       "array(['NY', 'NJ', 'CO', 'KS', 'ND', 'CA', 'MI', 'AK', 'OR', 'AL', 'SC',\n",
       "       'IA', 'GA', 'TN', 'NE', 'LA', 'KY', 'WV', 'NM', 'UT', 'RI', 'FL',\n",
       "       'VA', 'NC', 'TX', 'WA', 'ME', 'IL', 'AZ', 'OH', 'PA', 'MN', 'WI',\n",
       "       'MD', 'SD', 'NV', 'ID', 'MO', 'OK', 'IN', 'CT', 'MS', 'AR', 'WY',\n",
       "       'MA', 'MT', 'DE', 'NH', 'VT', 'HI'], dtype=object)"
      ]
     },
     "execution_count": 93,
     "metadata": {},
     "output_type": "execute_result"
    }
   ],
   "source": [
    "# Check your work to see that the corrections have been made\n",
    "\n",
    "df_ufos['State'].unique()"
   ]
  },
  {
   "cell_type": "markdown",
   "metadata": {},
   "source": [
    "## Bonus Exercise 2\n",
    "\n",
    "Clean up the column names for the dataset and save it to the folder called 'data' in the lesson directory. "
   ]
  },
  {
   "cell_type": "code",
   "execution_count": 10,
   "metadata": {
    "ExecuteTime": {
     "end_time": "2020-06-27T16:34:43.610318Z",
     "start_time": "2020-06-27T16:34:43.595286Z"
    }
   },
   "outputs": [
    {
     "data": {
      "text/html": [
       "<div>\n",
       "<style scoped>\n",
       "    .dataframe tbody tr th:only-of-type {\n",
       "        vertical-align: middle;\n",
       "    }\n",
       "\n",
       "    .dataframe tbody tr th {\n",
       "        vertical-align: top;\n",
       "    }\n",
       "\n",
       "    .dataframe thead th {\n",
       "        text-align: right;\n",
       "    }\n",
       "</style>\n",
       "<table border=\"1\" class=\"dataframe\">\n",
       "  <thead>\n",
       "    <tr style=\"text-align: right;\">\n",
       "      <th></th>\n",
       "      <th>City</th>\n",
       "      <th>Colors Reported</th>\n",
       "      <th>Shape Reported</th>\n",
       "      <th>State</th>\n",
       "      <th>Time</th>\n",
       "    </tr>\n",
       "  </thead>\n",
       "  <tbody>\n",
       "    <tr>\n",
       "      <th>0</th>\n",
       "      <td>Ithaca</td>\n",
       "      <td>NaN</td>\n",
       "      <td>TRIANGLE</td>\n",
       "      <td>NY</td>\n",
       "      <td>6/1/1930 22:00</td>\n",
       "    </tr>\n",
       "    <tr>\n",
       "      <th>1</th>\n",
       "      <td>Willingboro</td>\n",
       "      <td>NaN</td>\n",
       "      <td>OTHER</td>\n",
       "      <td>NJ</td>\n",
       "      <td>6/30/1930 20:00</td>\n",
       "    </tr>\n",
       "    <tr>\n",
       "      <th>2</th>\n",
       "      <td>Holyoke</td>\n",
       "      <td>NaN</td>\n",
       "      <td>OVAL</td>\n",
       "      <td>CO</td>\n",
       "      <td>2/15/1931 14:00</td>\n",
       "    </tr>\n",
       "    <tr>\n",
       "      <th>3</th>\n",
       "      <td>Abilene</td>\n",
       "      <td>NaN</td>\n",
       "      <td>DISK</td>\n",
       "      <td>KS</td>\n",
       "      <td>6/1/1931 13:00</td>\n",
       "    </tr>\n",
       "    <tr>\n",
       "      <th>4</th>\n",
       "      <td>New York Worlds Fair</td>\n",
       "      <td>NaN</td>\n",
       "      <td>LIGHT</td>\n",
       "      <td>NY</td>\n",
       "      <td>4/18/1933 19:00</td>\n",
       "    </tr>\n",
       "  </tbody>\n",
       "</table>\n",
       "</div>"
      ],
      "text/plain": [
       "                   City Colors Reported Shape Reported State             Time\n",
       "0                Ithaca             NaN       TRIANGLE    NY   6/1/1930 22:00\n",
       "1           Willingboro             NaN          OTHER    NJ  6/30/1930 20:00\n",
       "2               Holyoke             NaN           OVAL    CO  2/15/1931 14:00\n",
       "3               Abilene             NaN           DISK    KS   6/1/1931 13:00\n",
       "4  New York Worlds Fair             NaN          LIGHT    NY  4/18/1933 19:00"
      ]
     },
     "metadata": {},
     "output_type": "display_data"
    },
    {
     "data": {
      "text/html": [
       "<div>\n",
       "<style scoped>\n",
       "    .dataframe tbody tr th:only-of-type {\n",
       "        vertical-align: middle;\n",
       "    }\n",
       "\n",
       "    .dataframe tbody tr th {\n",
       "        vertical-align: top;\n",
       "    }\n",
       "\n",
       "    .dataframe thead th {\n",
       "        text-align: right;\n",
       "    }\n",
       "</style>\n",
       "<table border=\"1\" class=\"dataframe\">\n",
       "  <thead>\n",
       "    <tr style=\"text-align: right;\">\n",
       "      <th></th>\n",
       "      <th>city</th>\n",
       "      <th>colors_reported</th>\n",
       "      <th>shape_reported</th>\n",
       "      <th>state</th>\n",
       "      <th>time</th>\n",
       "    </tr>\n",
       "  </thead>\n",
       "  <tbody>\n",
       "    <tr>\n",
       "      <th>0</th>\n",
       "      <td>Ithaca</td>\n",
       "      <td>NaN</td>\n",
       "      <td>TRIANGLE</td>\n",
       "      <td>NY</td>\n",
       "      <td>6/1/1930 22:00</td>\n",
       "    </tr>\n",
       "    <tr>\n",
       "      <th>1</th>\n",
       "      <td>Willingboro</td>\n",
       "      <td>NaN</td>\n",
       "      <td>OTHER</td>\n",
       "      <td>NJ</td>\n",
       "      <td>6/30/1930 20:00</td>\n",
       "    </tr>\n",
       "    <tr>\n",
       "      <th>2</th>\n",
       "      <td>Holyoke</td>\n",
       "      <td>NaN</td>\n",
       "      <td>OVAL</td>\n",
       "      <td>CO</td>\n",
       "      <td>2/15/1931 14:00</td>\n",
       "    </tr>\n",
       "    <tr>\n",
       "      <th>3</th>\n",
       "      <td>Abilene</td>\n",
       "      <td>NaN</td>\n",
       "      <td>DISK</td>\n",
       "      <td>KS</td>\n",
       "      <td>6/1/1931 13:00</td>\n",
       "    </tr>\n",
       "    <tr>\n",
       "      <th>4</th>\n",
       "      <td>New York Worlds Fair</td>\n",
       "      <td>NaN</td>\n",
       "      <td>LIGHT</td>\n",
       "      <td>NY</td>\n",
       "      <td>4/18/1933 19:00</td>\n",
       "    </tr>\n",
       "  </tbody>\n",
       "</table>\n",
       "</div>"
      ],
      "text/plain": [
       "                   city colors_reported shape_reported state             time\n",
       "0                Ithaca             NaN       TRIANGLE    NY   6/1/1930 22:00\n",
       "1           Willingboro             NaN          OTHER    NJ  6/30/1930 20:00\n",
       "2               Holyoke             NaN           OVAL    CO  2/15/1931 14:00\n",
       "3               Abilene             NaN           DISK    KS   6/1/1931 13:00\n",
       "4  New York Worlds Fair             NaN          LIGHT    NY  4/18/1933 19:00"
      ]
     },
     "metadata": {},
     "output_type": "display_data"
    }
   ],
   "source": [
    "display(df_ufos.head())\n",
    "\n",
    "column_names = ['city', 'colors_reported', 'shape_reported', 'state', 'time']\n",
    "\n",
    "df_ufos.columns = column_names\n",
    "\n",
    "display(df_ufos.head())"
   ]
  },
  {
   "cell_type": "code",
   "execution_count": 12,
   "metadata": {
    "ExecuteTime": {
     "end_time": "2020-06-27T16:38:24.066284Z",
     "start_time": "2020-06-27T16:38:24.012259Z"
    }
   },
   "outputs": [],
   "source": [
    "df_ufos.to_csv('data/ufo_df_cleaned.csv')"
   ]
  },
  {
   "cell_type": "code",
   "execution_count": null,
   "metadata": {},
   "outputs": [],
   "source": []
  },
  {
   "cell_type": "code",
   "execution_count": null,
   "metadata": {},
   "outputs": [],
   "source": []
  },
  {
   "cell_type": "code",
   "execution_count": null,
   "metadata": {},
   "outputs": [],
   "source": []
  }
 ],
 "metadata": {
  "kernelspec": {
   "display_name": "Python 3",
   "language": "python",
   "name": "python3"
  },
  "language_info": {
   "codemirror_mode": {
    "name": "ipython",
    "version": 3
   },
   "file_extension": ".py",
   "mimetype": "text/x-python",
   "name": "python",
   "nbconvert_exporter": "python",
   "pygments_lexer": "ipython3",
   "version": "3.7.4"
  },
  "toc": {
   "base_numbering": 1,
   "nav_menu": {},
   "number_sections": true,
   "sideBar": true,
   "skip_h1_title": false,
   "title_cell": "Table of Contents",
   "title_sidebar": "Contents",
   "toc_cell": false,
   "toc_position": {},
   "toc_section_display": true,
   "toc_window_display": true
  }
 },
 "nbformat": 4,
 "nbformat_minor": 4
}
